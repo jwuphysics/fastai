{
 "cells": [
  {
   "cell_type": "code",
   "execution_count": 1,
   "metadata": {},
   "outputs": [],
   "source": [
    "# Put these at the top of every notebook, to get automatic reloading and inline plotting\n",
    "%reload_ext autoreload\n",
    "%autoreload 2\n",
    "%matplotlib inline"
   ]
  },
  {
   "cell_type": "code",
   "execution_count": 2,
   "metadata": {},
   "outputs": [],
   "source": [
    "# This file contains all the main external libs we'll use\n",
    "from fastai.imports import *"
   ]
  },
  {
   "cell_type": "code",
   "execution_count": 3,
   "metadata": {},
   "outputs": [],
   "source": [
    "from fastai.transforms import *\n",
    "from fastai.conv_learner import *\n",
    "from fastai.model import *\n",
    "from fastai.dataset import *\n",
    "from fastai.sgdr import *\n",
    "from fastai.plots import *\n",
    "\n",
    "import torch"
   ]
  },
  {
   "cell_type": "code",
   "execution_count": 4,
   "metadata": {},
   "outputs": [],
   "source": [
    "PATH = \"data/galaxy-zoo-2/\""
   ]
  },
  {
   "cell_type": "markdown",
   "metadata": {
    "heading_collapsed": true
   },
   "source": [
    "## Take a look"
   ]
  },
  {
   "cell_type": "code",
   "execution_count": 5,
   "metadata": {
    "hidden": true,
    "scrolled": true
   },
   "outputs": [
    {
     "data": {
      "text/plain": [
       "['all_ones_benchmark.csv',\n",
       " 'all_zeros_benchmark.csv',\n",
       " 'central_pixel_benchmark.csv',\n",
       " 'galSpecExtra-dr8.fits',\n",
       " 'images_test_rev1',\n",
       " 'images_training_rev1',\n",
       " 'models',\n",
       " 'tmp',\n",
       " 'training_solutions_rev1.csv',\n",
       " 'zoo2MainSpecz.csv',\n",
       " 'zoo2MainSpecz.csv.gz']"
      ]
     },
     "execution_count": 5,
     "metadata": {},
     "output_type": "execute_result"
    }
   ],
   "source": [
    "os.listdir(PATH)"
   ]
  },
  {
   "cell_type": "code",
   "execution_count": 6,
   "metadata": {
    "hidden": true
   },
   "outputs": [],
   "source": [
    "label_csv = f'{PATH}training_solutions_rev1.csv'\n",
    "\n",
    "# number of rows (first one is comment)\n",
    "n = len(list(open(label_csv))) - 1 \n",
    "\n",
    "# get random crossvalidation labels\n",
    "val_idxs = get_cv_idxs(n)"
   ]
  },
  {
   "cell_type": "code",
   "execution_count": 7,
   "metadata": {
    "hidden": true
   },
   "outputs": [
    {
     "name": "stdout",
     "output_type": "stream",
     "text": [
      "61578\n",
      "12315\n"
     ]
    }
   ],
   "source": [
    "print(n); print(len(val_idxs))"
   ]
  },
  {
   "cell_type": "markdown",
   "metadata": {
    "hidden": true
   },
   "source": [
    "read labeled data"
   ]
  },
  {
   "cell_type": "code",
   "execution_count": 8,
   "metadata": {
    "hidden": true
   },
   "outputs": [],
   "source": [
    "label_df = pd.read_csv(label_csv)"
   ]
  },
  {
   "cell_type": "code",
   "execution_count": 9,
   "metadata": {
    "hidden": true,
    "scrolled": true
   },
   "outputs": [
    {
     "data": {
      "text/html": [
       "<div>\n",
       "<style scoped>\n",
       "    .dataframe tbody tr th:only-of-type {\n",
       "        vertical-align: middle;\n",
       "    }\n",
       "\n",
       "    .dataframe tbody tr th {\n",
       "        vertical-align: top;\n",
       "    }\n",
       "\n",
       "    .dataframe thead th {\n",
       "        text-align: right;\n",
       "    }\n",
       "</style>\n",
       "<table border=\"1\" class=\"dataframe\">\n",
       "  <thead>\n",
       "    <tr style=\"text-align: right;\">\n",
       "      <th></th>\n",
       "      <th>GalaxyID</th>\n",
       "      <th>Class1.1</th>\n",
       "      <th>Class1.2</th>\n",
       "      <th>Class1.3</th>\n",
       "      <th>Class2.1</th>\n",
       "      <th>Class2.2</th>\n",
       "      <th>Class3.1</th>\n",
       "      <th>Class3.2</th>\n",
       "      <th>Class4.1</th>\n",
       "      <th>Class4.2</th>\n",
       "      <th>...</th>\n",
       "      <th>Class9.3</th>\n",
       "      <th>Class10.1</th>\n",
       "      <th>Class10.2</th>\n",
       "      <th>Class10.3</th>\n",
       "      <th>Class11.1</th>\n",
       "      <th>Class11.2</th>\n",
       "      <th>Class11.3</th>\n",
       "      <th>Class11.4</th>\n",
       "      <th>Class11.5</th>\n",
       "      <th>Class11.6</th>\n",
       "    </tr>\n",
       "  </thead>\n",
       "  <tbody>\n",
       "    <tr>\n",
       "      <th>0</th>\n",
       "      <td>100008</td>\n",
       "      <td>0.383147</td>\n",
       "      <td>0.616853</td>\n",
       "      <td>0.000000</td>\n",
       "      <td>0.000000</td>\n",
       "      <td>0.616853</td>\n",
       "      <td>0.038452</td>\n",
       "      <td>0.578401</td>\n",
       "      <td>0.418398</td>\n",
       "      <td>0.198455</td>\n",
       "      <td>...</td>\n",
       "      <td>0.000000</td>\n",
       "      <td>0.279952</td>\n",
       "      <td>0.138445</td>\n",
       "      <td>0.000000</td>\n",
       "      <td>0.000000</td>\n",
       "      <td>0.092886</td>\n",
       "      <td>0.0</td>\n",
       "      <td>0.0</td>\n",
       "      <td>0.0</td>\n",
       "      <td>0.325512</td>\n",
       "    </tr>\n",
       "    <tr>\n",
       "      <th>1</th>\n",
       "      <td>100023</td>\n",
       "      <td>0.327001</td>\n",
       "      <td>0.663777</td>\n",
       "      <td>0.009222</td>\n",
       "      <td>0.031178</td>\n",
       "      <td>0.632599</td>\n",
       "      <td>0.467370</td>\n",
       "      <td>0.165229</td>\n",
       "      <td>0.591328</td>\n",
       "      <td>0.041271</td>\n",
       "      <td>...</td>\n",
       "      <td>0.018764</td>\n",
       "      <td>0.000000</td>\n",
       "      <td>0.131378</td>\n",
       "      <td>0.459950</td>\n",
       "      <td>0.000000</td>\n",
       "      <td>0.591328</td>\n",
       "      <td>0.0</td>\n",
       "      <td>0.0</td>\n",
       "      <td>0.0</td>\n",
       "      <td>0.000000</td>\n",
       "    </tr>\n",
       "    <tr>\n",
       "      <th>2</th>\n",
       "      <td>100053</td>\n",
       "      <td>0.765717</td>\n",
       "      <td>0.177352</td>\n",
       "      <td>0.056931</td>\n",
       "      <td>0.000000</td>\n",
       "      <td>0.177352</td>\n",
       "      <td>0.000000</td>\n",
       "      <td>0.177352</td>\n",
       "      <td>0.000000</td>\n",
       "      <td>0.177352</td>\n",
       "      <td>...</td>\n",
       "      <td>0.000000</td>\n",
       "      <td>0.000000</td>\n",
       "      <td>0.000000</td>\n",
       "      <td>0.000000</td>\n",
       "      <td>0.000000</td>\n",
       "      <td>0.000000</td>\n",
       "      <td>0.0</td>\n",
       "      <td>0.0</td>\n",
       "      <td>0.0</td>\n",
       "      <td>0.000000</td>\n",
       "    </tr>\n",
       "    <tr>\n",
       "      <th>3</th>\n",
       "      <td>100078</td>\n",
       "      <td>0.693377</td>\n",
       "      <td>0.238564</td>\n",
       "      <td>0.068059</td>\n",
       "      <td>0.000000</td>\n",
       "      <td>0.238564</td>\n",
       "      <td>0.109493</td>\n",
       "      <td>0.129071</td>\n",
       "      <td>0.189098</td>\n",
       "      <td>0.049466</td>\n",
       "      <td>...</td>\n",
       "      <td>0.000000</td>\n",
       "      <td>0.094549</td>\n",
       "      <td>0.000000</td>\n",
       "      <td>0.094549</td>\n",
       "      <td>0.189098</td>\n",
       "      <td>0.000000</td>\n",
       "      <td>0.0</td>\n",
       "      <td>0.0</td>\n",
       "      <td>0.0</td>\n",
       "      <td>0.000000</td>\n",
       "    </tr>\n",
       "    <tr>\n",
       "      <th>4</th>\n",
       "      <td>100090</td>\n",
       "      <td>0.933839</td>\n",
       "      <td>0.000000</td>\n",
       "      <td>0.066161</td>\n",
       "      <td>0.000000</td>\n",
       "      <td>0.000000</td>\n",
       "      <td>0.000000</td>\n",
       "      <td>0.000000</td>\n",
       "      <td>0.000000</td>\n",
       "      <td>0.000000</td>\n",
       "      <td>...</td>\n",
       "      <td>0.000000</td>\n",
       "      <td>0.000000</td>\n",
       "      <td>0.000000</td>\n",
       "      <td>0.000000</td>\n",
       "      <td>0.000000</td>\n",
       "      <td>0.000000</td>\n",
       "      <td>0.0</td>\n",
       "      <td>0.0</td>\n",
       "      <td>0.0</td>\n",
       "      <td>0.000000</td>\n",
       "    </tr>\n",
       "  </tbody>\n",
       "</table>\n",
       "<p>5 rows × 38 columns</p>\n",
       "</div>"
      ],
      "text/plain": [
       "   GalaxyID  Class1.1  Class1.2  Class1.3  Class2.1  Class2.2  Class3.1  \\\n",
       "0    100008  0.383147  0.616853  0.000000  0.000000  0.616853  0.038452   \n",
       "1    100023  0.327001  0.663777  0.009222  0.031178  0.632599  0.467370   \n",
       "2    100053  0.765717  0.177352  0.056931  0.000000  0.177352  0.000000   \n",
       "3    100078  0.693377  0.238564  0.068059  0.000000  0.238564  0.109493   \n",
       "4    100090  0.933839  0.000000  0.066161  0.000000  0.000000  0.000000   \n",
       "\n",
       "   Class3.2  Class4.1  Class4.2    ...      Class9.3  Class10.1  Class10.2  \\\n",
       "0  0.578401  0.418398  0.198455    ...      0.000000   0.279952   0.138445   \n",
       "1  0.165229  0.591328  0.041271    ...      0.018764   0.000000   0.131378   \n",
       "2  0.177352  0.000000  0.177352    ...      0.000000   0.000000   0.000000   \n",
       "3  0.129071  0.189098  0.049466    ...      0.000000   0.094549   0.000000   \n",
       "4  0.000000  0.000000  0.000000    ...      0.000000   0.000000   0.000000   \n",
       "\n",
       "   Class10.3  Class11.1  Class11.2  Class11.3  Class11.4  Class11.5  Class11.6  \n",
       "0   0.000000   0.000000   0.092886        0.0        0.0        0.0   0.325512  \n",
       "1   0.459950   0.000000   0.591328        0.0        0.0        0.0   0.000000  \n",
       "2   0.000000   0.000000   0.000000        0.0        0.0        0.0   0.000000  \n",
       "3   0.094549   0.189098   0.000000        0.0        0.0        0.0   0.000000  \n",
       "4   0.000000   0.000000   0.000000        0.0        0.0        0.0   0.000000  \n",
       "\n",
       "[5 rows x 38 columns]"
      ]
     },
     "execution_count": 9,
     "metadata": {},
     "output_type": "execute_result"
    }
   ],
   "source": [
    "label_df.head()\n"
   ]
  },
  {
   "cell_type": "markdown",
   "metadata": {},
   "source": [
    "Here is what the classes mean:\n",
    "\n",
    "![Decision tree classes](https://kaggle2.blob.core.windows.net/competitions/kaggle/3175/media/Screen%20Shot%202013-09-25%20at%2010.15.06.png)"
   ]
  },
  {
   "cell_type": "markdown",
   "metadata": {},
   "source": [
    "## Defining the problem\n",
    "We see that there are 37 classes here, with each representing some answer in the decision tree. I'm more interested in doing a multiple category, single question classification problem (because it's easier). One way to do this is to crossmatch answers between the Kaggle challenge catalog and with the SDSS object IDs through the [GalaxyZoo website](https://data.galaxyzoo.org/), and then querying the SDSS SkyServer for better data (e.g., `GalSpecLine`) using those results."
   ]
  },
  {
   "cell_type": "markdown",
   "metadata": {},
   "source": [
    "## New data products:\n",
    "\n",
    "    zoo2MainSpecz.csv         These are basically the same labels as before, \n",
    "                              except that we have the Sloan IDs\n",
    "    galSpecExtra-dr8.fits     The SDSS DR8 extra spectroscopically determined \n",
    "                              properties, including BPT classification, \n",
    "                              metallicity, sSFR, etc. From MPA/JHU.\n",
    "                              \n",
    "In order to get these all together, I'll need to match the Kaggle IDs to the SDSS `galSpecExtra` labels ([see documentation](https://data.sdss.org/datamodel/files/SPECTRO_REDUX/galSpecExtra.html))."
   ]
  },
  {
   "cell_type": "code",
   "execution_count": 10,
   "metadata": {},
   "outputs": [],
   "source": [
    "from astropy.io import fits\n",
    "gse = fits.getdata(f'{PATH}galSpecExtra-dr8.fits')"
   ]
  },
  {
   "cell_type": "code",
   "execution_count": 11,
   "metadata": {
    "scrolled": true
   },
   "outputs": [
    {
     "data": {
      "text/plain": [
       "ColDefs(\n",
       "    name = 'SPECOBJID'; format = '19A'\n",
       "    name = 'PLATEID'; format = 'J'\n",
       "    name = 'MJD'; format = 'J'\n",
       "    name = 'FIBERID'; format = 'J'\n",
       "    name = 'BPTCLASS'; format = 'I'\n",
       "    name = 'LGM_TOT_P2P5'; format = 'E'\n",
       "    name = 'LGM_TOT_P16'; format = 'E'\n",
       "    name = 'LGM_TOT_P50'; format = 'E'\n",
       "    name = 'LGM_TOT_P84'; format = 'E'\n",
       "    name = 'LGM_TOT_P97P5'; format = 'E'\n",
       "    name = 'LGM_FIB_P2P5'; format = 'E'\n",
       "    name = 'LGM_FIB_P16'; format = 'E'\n",
       "    name = 'LGM_FIB_P50'; format = 'E'\n",
       "    name = 'LGM_FIB_P84'; format = 'E'\n",
       "    name = 'LGM_FIB_P97P5'; format = 'E'\n",
       "    name = 'OH_P2P5'; format = 'E'\n",
       "    name = 'OH_P16'; format = 'E'\n",
       "    name = 'OH_P50'; format = 'E'\n",
       "    name = 'OH_P84'; format = 'E'\n",
       "    name = 'OH_P97P5'; format = 'E'\n",
       "    name = 'OH_ENTROPY'; format = 'E'\n",
       "    name = 'SFR_TOT_P2P5'; format = 'E'\n",
       "    name = 'SFR_TOT_P16'; format = 'E'\n",
       "    name = 'SFR_TOT_P50'; format = 'E'\n",
       "    name = 'SFR_TOT_P84'; format = 'E'\n",
       "    name = 'SFR_TOT_P97P5'; format = 'E'\n",
       "    name = 'SFR_TOT_ENTROPY'; format = 'E'\n",
       "    name = 'SFR_FIB_P2P5'; format = 'E'\n",
       "    name = 'SFR_FIB_P16'; format = 'E'\n",
       "    name = 'SFR_FIB_P50'; format = 'E'\n",
       "    name = 'SFR_FIB_P84'; format = 'E'\n",
       "    name = 'SFR_FIB_P97P5'; format = 'E'\n",
       "    name = 'SFR_FIB_ENTROPY'; format = 'E'\n",
       "    name = 'SPECSFR_TOT_P2P5'; format = 'E'\n",
       "    name = 'SPECSFR_TOT_P16'; format = 'E'\n",
       "    name = 'SPECSFR_TOT_P50'; format = 'E'\n",
       "    name = 'SPECSFR_TOT_P84'; format = 'E'\n",
       "    name = 'SPECSFR_TOT_P97P5'; format = 'E'\n",
       "    name = 'SPECSFR_TOT_ENTROPY'; format = 'E'\n",
       "    name = 'SPECSFR_FIB_P2P5'; format = 'E'\n",
       "    name = 'SPECSFR_FIB_P16'; format = 'E'\n",
       "    name = 'SPECSFR_FIB_P50'; format = 'E'\n",
       "    name = 'SPECSFR_FIB_P84'; format = 'E'\n",
       "    name = 'SPECSFR_FIB_P97P5'; format = 'E'\n",
       "    name = 'SPECSFR_FIB_ENTROPY'; format = 'E'\n",
       ")"
      ]
     },
     "execution_count": 11,
     "metadata": {},
     "output_type": "execute_result"
    }
   ],
   "source": [
    "gse.columns"
   ]
  },
  {
   "cell_type": "code",
   "execution_count": 12,
   "metadata": {},
   "outputs": [
    {
     "data": {
      "text/html": [
       "<div>\n",
       "<style scoped>\n",
       "    .dataframe tbody tr th:only-of-type {\n",
       "        vertical-align: middle;\n",
       "    }\n",
       "\n",
       "    .dataframe tbody tr th {\n",
       "        vertical-align: top;\n",
       "    }\n",
       "\n",
       "    .dataframe thead th {\n",
       "        text-align: right;\n",
       "    }\n",
       "</style>\n",
       "<table border=\"1\" class=\"dataframe\">\n",
       "  <thead>\n",
       "    <tr style=\"text-align: right;\">\n",
       "      <th></th>\n",
       "      <th>SpecObjID</th>\n",
       "      <th>BPTClass</th>\n",
       "    </tr>\n",
       "  </thead>\n",
       "  <tbody>\n",
       "    <tr>\n",
       "      <th>0</th>\n",
       "      <td>299489676975171584</td>\n",
       "      <td>3</td>\n",
       "    </tr>\n",
       "    <tr>\n",
       "      <th>1</th>\n",
       "      <td>299489951853078528</td>\n",
       "      <td>-1</td>\n",
       "    </tr>\n",
       "    <tr>\n",
       "      <th>2</th>\n",
       "      <td>299490226730985472</td>\n",
       "      <td>-1</td>\n",
       "    </tr>\n",
       "    <tr>\n",
       "      <th>3</th>\n",
       "      <td>299490501608892416</td>\n",
       "      <td>-1</td>\n",
       "    </tr>\n",
       "    <tr>\n",
       "      <th>4</th>\n",
       "      <td>299490776486799360</td>\n",
       "      <td>-1</td>\n",
       "    </tr>\n",
       "  </tbody>\n",
       "</table>\n",
       "</div>"
      ],
      "text/plain": [
       "             SpecObjID BPTClass\n",
       "0  299489676975171584         3\n",
       "1  299489951853078528        -1\n",
       "2  299490226730985472        -1\n",
       "3  299490501608892416        -1\n",
       "4  299490776486799360        -1"
      ]
     },
     "execution_count": 12,
     "metadata": {},
     "output_type": "execute_result"
    }
   ],
   "source": [
    "bpt = pd.DataFrame(np.column_stack((gse['SPECOBJID'], gse['BPTCLASS'])), columns=['SpecObjID', 'BPTClass'])\n",
    "bpt.set_index('SpecObjID',)\n",
    "bpt.head()"
   ]
  },
  {
   "cell_type": "code",
   "execution_count": 13,
   "metadata": {},
   "outputs": [
    {
     "data": {
      "text/plain": [
       "-1    870214\n",
       "0     370619\n",
       "2     230513\n",
       "1     215224\n",
       "5      77586\n",
       "3      52006\n",
       "4      27038\n",
       "Name: BPTClass, dtype: int64"
      ]
     },
     "execution_count": 13,
     "metadata": {},
     "output_type": "execute_result"
    }
   ],
   "source": [
    "bpt.BPTClass.value_counts()"
   ]
  },
  {
   "cell_type": "markdown",
   "metadata": {},
   "source": [
    "## Find the intersection of BPT and Kaggle and GZ2"
   ]
  },
  {
   "cell_type": "code",
   "execution_count": 14,
   "metadata": {},
   "outputs": [
    {
     "data": {
      "text/html": [
       "<div>\n",
       "<style scoped>\n",
       "    .dataframe tbody tr th:only-of-type {\n",
       "        vertical-align: middle;\n",
       "    }\n",
       "\n",
       "    .dataframe tbody tr th {\n",
       "        vertical-align: top;\n",
       "    }\n",
       "\n",
       "    .dataframe thead th {\n",
       "        text-align: right;\n",
       "    }\n",
       "</style>\n",
       "<table border=\"1\" class=\"dataframe\">\n",
       "  <thead>\n",
       "    <tr style=\"text-align: right;\">\n",
       "      <th></th>\n",
       "      <th>specobjid</th>\n",
       "      <th>dr8objid</th>\n",
       "      <th>dr7objid</th>\n",
       "      <th>ra</th>\n",
       "      <th>dec</th>\n",
       "      <th>rastring</th>\n",
       "      <th>decstring</th>\n",
       "      <th>sample</th>\n",
       "      <th>gz2class</th>\n",
       "      <th>total_classifications</th>\n",
       "      <th>...</th>\n",
       "      <th>t11_arms_number_a36_more_than_4_fraction</th>\n",
       "      <th>t11_arms_number_a36_more_than_4_weighted_fraction</th>\n",
       "      <th>t11_arms_number_a36_more_than_4_debiased</th>\n",
       "      <th>t11_arms_number_a36_more_than_4_flag</th>\n",
       "      <th>t11_arms_number_a37_cant_tell_count</th>\n",
       "      <th>t11_arms_number_a37_cant_tell_weight</th>\n",
       "      <th>t11_arms_number_a37_cant_tell_fraction</th>\n",
       "      <th>t11_arms_number_a37_cant_tell_weighted_fraction</th>\n",
       "      <th>t11_arms_number_a37_cant_tell_debiased</th>\n",
       "      <th>t11_arms_number_a37_cant_tell_flag</th>\n",
       "    </tr>\n",
       "  </thead>\n",
       "  <tbody>\n",
       "    <tr>\n",
       "      <th>0</th>\n",
       "      <td>1.802675e+18</td>\n",
       "      <td>NaN</td>\n",
       "      <td>588017703996096547</td>\n",
       "      <td>160.99040</td>\n",
       "      <td>11.703790</td>\n",
       "      <td>10:43:57.70</td>\n",
       "      <td>+11:42:13.6</td>\n",
       "      <td>original</td>\n",
       "      <td>SBb?t</td>\n",
       "      <td>44</td>\n",
       "      <td>...</td>\n",
       "      <td>0.225</td>\n",
       "      <td>0.225</td>\n",
       "      <td>0.225</td>\n",
       "      <td>0</td>\n",
       "      <td>10</td>\n",
       "      <td>10.0</td>\n",
       "      <td>0.250</td>\n",
       "      <td>0.250</td>\n",
       "      <td>0.250</td>\n",
       "      <td>0</td>\n",
       "    </tr>\n",
       "    <tr>\n",
       "      <th>1</th>\n",
       "      <td>1.992984e+18</td>\n",
       "      <td>NaN</td>\n",
       "      <td>587738569780428805</td>\n",
       "      <td>192.41083</td>\n",
       "      <td>15.164207</td>\n",
       "      <td>12:49:38.60</td>\n",
       "      <td>+15:09:51.1</td>\n",
       "      <td>original</td>\n",
       "      <td>Ser</td>\n",
       "      <td>45</td>\n",
       "      <td>...</td>\n",
       "      <td>0.000</td>\n",
       "      <td>0.000</td>\n",
       "      <td>0.000</td>\n",
       "      <td>0</td>\n",
       "      <td>0</td>\n",
       "      <td>0.0</td>\n",
       "      <td>0.000</td>\n",
       "      <td>0.000</td>\n",
       "      <td>0.000</td>\n",
       "      <td>0</td>\n",
       "    </tr>\n",
       "    <tr>\n",
       "      <th>2</th>\n",
       "      <td>1.489569e+18</td>\n",
       "      <td>NaN</td>\n",
       "      <td>587735695913320507</td>\n",
       "      <td>210.80220</td>\n",
       "      <td>54.348953</td>\n",
       "      <td>14:03:12.53</td>\n",
       "      <td>+54:20:56.2</td>\n",
       "      <td>original</td>\n",
       "      <td>Sc+t</td>\n",
       "      <td>46</td>\n",
       "      <td>...</td>\n",
       "      <td>0.651</td>\n",
       "      <td>0.651</td>\n",
       "      <td>0.651</td>\n",
       "      <td>0</td>\n",
       "      <td>3</td>\n",
       "      <td>3.0</td>\n",
       "      <td>0.070</td>\n",
       "      <td>0.070</td>\n",
       "      <td>0.070</td>\n",
       "      <td>0</td>\n",
       "    </tr>\n",
       "    <tr>\n",
       "      <th>3</th>\n",
       "      <td>2.924084e+18</td>\n",
       "      <td>1.237668e+18</td>\n",
       "      <td>587742775634624545</td>\n",
       "      <td>185.30342</td>\n",
       "      <td>18.382704</td>\n",
       "      <td>12:21:12.82</td>\n",
       "      <td>+18:22:57.7</td>\n",
       "      <td>original</td>\n",
       "      <td>SBc(r)</td>\n",
       "      <td>45</td>\n",
       "      <td>...</td>\n",
       "      <td>0.071</td>\n",
       "      <td>0.071</td>\n",
       "      <td>0.071</td>\n",
       "      <td>0</td>\n",
       "      <td>6</td>\n",
       "      <td>6.0</td>\n",
       "      <td>0.429</td>\n",
       "      <td>0.429</td>\n",
       "      <td>0.429</td>\n",
       "      <td>0</td>\n",
       "    </tr>\n",
       "    <tr>\n",
       "      <th>4</th>\n",
       "      <td>1.387165e+18</td>\n",
       "      <td>1.237658e+18</td>\n",
       "      <td>587732769983889439</td>\n",
       "      <td>187.36679</td>\n",
       "      <td>8.749928</td>\n",
       "      <td>12:29:28.03</td>\n",
       "      <td>+08:44:59.7</td>\n",
       "      <td>extra</td>\n",
       "      <td>Ser</td>\n",
       "      <td>49</td>\n",
       "      <td>...</td>\n",
       "      <td>0.000</td>\n",
       "      <td>0.000</td>\n",
       "      <td>0.000</td>\n",
       "      <td>0</td>\n",
       "      <td>1</td>\n",
       "      <td>1.0</td>\n",
       "      <td>1.000</td>\n",
       "      <td>1.000</td>\n",
       "      <td>1.000</td>\n",
       "      <td>0</td>\n",
       "    </tr>\n",
       "  </tbody>\n",
       "</table>\n",
       "<p>5 rows × 233 columns</p>\n",
       "</div>"
      ],
      "text/plain": [
       "      specobjid      dr8objid            dr7objid         ra        dec  \\\n",
       "0  1.802675e+18           NaN  588017703996096547  160.99040  11.703790   \n",
       "1  1.992984e+18           NaN  587738569780428805  192.41083  15.164207   \n",
       "2  1.489569e+18           NaN  587735695913320507  210.80220  54.348953   \n",
       "3  2.924084e+18  1.237668e+18  587742775634624545  185.30342  18.382704   \n",
       "4  1.387165e+18  1.237658e+18  587732769983889439  187.36679   8.749928   \n",
       "\n",
       "      rastring    decstring    sample gz2class  total_classifications  \\\n",
       "0  10:43:57.70  +11:42:13.6  original    SBb?t                     44   \n",
       "1  12:49:38.60  +15:09:51.1  original      Ser                     45   \n",
       "2  14:03:12.53  +54:20:56.2  original     Sc+t                     46   \n",
       "3  12:21:12.82  +18:22:57.7  original   SBc(r)                     45   \n",
       "4  12:29:28.03  +08:44:59.7     extra      Ser                     49   \n",
       "\n",
       "                  ...                  \\\n",
       "0                 ...                   \n",
       "1                 ...                   \n",
       "2                 ...                   \n",
       "3                 ...                   \n",
       "4                 ...                   \n",
       "\n",
       "   t11_arms_number_a36_more_than_4_fraction  \\\n",
       "0                                     0.225   \n",
       "1                                     0.000   \n",
       "2                                     0.651   \n",
       "3                                     0.071   \n",
       "4                                     0.000   \n",
       "\n",
       "   t11_arms_number_a36_more_than_4_weighted_fraction  \\\n",
       "0                                              0.225   \n",
       "1                                              0.000   \n",
       "2                                              0.651   \n",
       "3                                              0.071   \n",
       "4                                              0.000   \n",
       "\n",
       "   t11_arms_number_a36_more_than_4_debiased  \\\n",
       "0                                     0.225   \n",
       "1                                     0.000   \n",
       "2                                     0.651   \n",
       "3                                     0.071   \n",
       "4                                     0.000   \n",
       "\n",
       "   t11_arms_number_a36_more_than_4_flag  t11_arms_number_a37_cant_tell_count  \\\n",
       "0                                     0                                   10   \n",
       "1                                     0                                    0   \n",
       "2                                     0                                    3   \n",
       "3                                     0                                    6   \n",
       "4                                     0                                    1   \n",
       "\n",
       "   t11_arms_number_a37_cant_tell_weight  \\\n",
       "0                                  10.0   \n",
       "1                                   0.0   \n",
       "2                                   3.0   \n",
       "3                                   6.0   \n",
       "4                                   1.0   \n",
       "\n",
       "   t11_arms_number_a37_cant_tell_fraction  \\\n",
       "0                                   0.250   \n",
       "1                                   0.000   \n",
       "2                                   0.070   \n",
       "3                                   0.429   \n",
       "4                                   1.000   \n",
       "\n",
       "   t11_arms_number_a37_cant_tell_weighted_fraction  \\\n",
       "0                                            0.250   \n",
       "1                                            0.000   \n",
       "2                                            0.070   \n",
       "3                                            0.429   \n",
       "4                                            1.000   \n",
       "\n",
       "   t11_arms_number_a37_cant_tell_debiased  t11_arms_number_a37_cant_tell_flag  \n",
       "0                                   0.250                                   0  \n",
       "1                                   0.000                                   0  \n",
       "2                                   0.070                                   0  \n",
       "3                                   0.429                                   0  \n",
       "4                                   1.000                                   0  \n",
       "\n",
       "[5 rows x 233 columns]"
      ]
     },
     "execution_count": 14,
     "metadata": {},
     "output_type": "execute_result"
    }
   ],
   "source": [
    "gz2 = pd.read_csv(f'{PATH}zoo2MainSpecz.csv')\n",
    "gz2.head()"
   ]
  },
  {
   "cell_type": "code",
   "execution_count": 15,
   "metadata": {},
   "outputs": [
    {
     "data": {
      "text/plain": [
       "Index(['GalaxyID', 'Class1.1', 'Class1.2', 'Class1.3', 'Class2.1', 'Class2.2',\n",
       "       'Class3.1', 'Class3.2', 'Class4.1', 'Class4.2', 'Class5.1', 'Class5.2',\n",
       "       'Class5.3', 'Class5.4', 'Class6.1', 'Class6.2', 'Class7.1', 'Class7.2',\n",
       "       'Class7.3', 'Class8.1', 'Class8.2', 'Class8.3', 'Class8.4', 'Class8.5',\n",
       "       'Class8.6', 'Class8.7', 'Class9.1', 'Class9.2', 'Class9.3', 'Class10.1',\n",
       "       'Class10.2', 'Class10.3', 'Class11.1', 'Class11.2', 'Class11.3',\n",
       "       'Class11.4', 'Class11.5', 'Class11.6'],\n",
       "      dtype='object')"
      ]
     },
     "execution_count": 15,
     "metadata": {},
     "output_type": "execute_result"
    }
   ],
   "source": [
    "label_df.columns"
   ]
  },
  {
   "cell_type": "code",
   "execution_count": 16,
   "metadata": {},
   "outputs": [
    {
     "name": "stdout",
     "output_type": "stream",
     "text": [
      "specobjid\n",
      "dr8objid\n",
      "dr7objid\n",
      "ra\n",
      "dec\n",
      "rastring\n",
      "decstring\n",
      "sample\n",
      "gz2class\n",
      "total_classifications\n",
      "total_votes\n",
      "t01_smooth_or_features_a01_smooth_count\n",
      "t01_smooth_or_features_a01_smooth_weight\n",
      "t01_smooth_or_features_a01_smooth_fraction\n",
      "t01_smooth_or_features_a01_smooth_weighted_fraction\n",
      "t01_smooth_or_features_a01_smooth_debiased\n",
      "t01_smooth_or_features_a01_smooth_flag\n",
      "t01_smooth_or_features_a02_features_or_disk_count\n",
      "t01_smooth_or_features_a02_features_or_disk_weight\n",
      "t01_smooth_or_features_a02_features_or_disk_fraction\n",
      "t01_smooth_or_features_a02_features_or_disk_weighted_fraction\n",
      "t01_smooth_or_features_a02_features_or_disk_debiased\n",
      "t01_smooth_or_features_a02_features_or_disk_flag\n",
      "t01_smooth_or_features_a03_star_or_artifact_count\n",
      "t01_smooth_or_features_a03_star_or_artifact_weight\n",
      "t01_smooth_or_features_a03_star_or_artifact_fraction\n",
      "t01_smooth_or_features_a03_star_or_artifact_weighted_fraction\n",
      "t01_smooth_or_features_a03_star_or_artifact_debiased\n",
      "t01_smooth_or_features_a03_star_or_artifact_flag\n",
      "t02_edgeon_a04_yes_count\n",
      "t02_edgeon_a04_yes_weight\n",
      "t02_edgeon_a04_yes_fraction\n",
      "t02_edgeon_a04_yes_weighted_fraction\n",
      "t02_edgeon_a04_yes_debiased\n",
      "t02_edgeon_a04_yes_flag\n",
      "t02_edgeon_a05_no_count\n",
      "t02_edgeon_a05_no_weight\n",
      "t02_edgeon_a05_no_fraction\n",
      "t02_edgeon_a05_no_weighted_fraction\n",
      "t02_edgeon_a05_no_debiased\n",
      "t02_edgeon_a05_no_flag\n",
      "t03_bar_a06_bar_count\n",
      "t03_bar_a06_bar_weight\n",
      "t03_bar_a06_bar_fraction\n",
      "t03_bar_a06_bar_weighted_fraction\n",
      "t03_bar_a06_bar_debiased\n",
      "t03_bar_a06_bar_flag\n",
      "t03_bar_a07_no_bar_count\n",
      "t03_bar_a07_no_bar_weight\n",
      "t03_bar_a07_no_bar_fraction\n",
      "t03_bar_a07_no_bar_weighted_fraction\n",
      "t03_bar_a07_no_bar_debiased\n",
      "t03_bar_a07_no_bar_flag\n",
      "t04_spiral_a08_spiral_count\n",
      "t04_spiral_a08_spiral_weight\n",
      "t04_spiral_a08_spiral_fraction\n",
      "t04_spiral_a08_spiral_weighted_fraction\n",
      "t04_spiral_a08_spiral_debiased\n",
      "t04_spiral_a08_spiral_flag\n",
      "t04_spiral_a09_no_spiral_count\n",
      "t04_spiral_a09_no_spiral_weight\n",
      "t04_spiral_a09_no_spiral_fraction\n",
      "t04_spiral_a09_no_spiral_weighted_fraction\n",
      "t04_spiral_a09_no_spiral_debiased\n",
      "t04_spiral_a09_no_spiral_flag\n",
      "t05_bulge_prominence_a10_no_bulge_count\n",
      "t05_bulge_prominence_a10_no_bulge_weight\n",
      "t05_bulge_prominence_a10_no_bulge_fraction\n",
      "t05_bulge_prominence_a10_no_bulge_weighted_fraction\n",
      "t05_bulge_prominence_a10_no_bulge_debiased\n",
      "t05_bulge_prominence_a10_no_bulge_flag\n",
      "t05_bulge_prominence_a11_just_noticeable_count\n",
      "t05_bulge_prominence_a11_just_noticeable_weight\n",
      "t05_bulge_prominence_a11_just_noticeable_fraction\n",
      "t05_bulge_prominence_a11_just_noticeable_weighted_fraction\n",
      "t05_bulge_prominence_a11_just_noticeable_debiased\n",
      "t05_bulge_prominence_a11_just_noticeable_flag\n",
      "t05_bulge_prominence_a12_obvious_count\n",
      "t05_bulge_prominence_a12_obvious_weight\n",
      "t05_bulge_prominence_a12_obvious_fraction\n",
      "t05_bulge_prominence_a12_obvious_weighted_fraction\n",
      "t05_bulge_prominence_a12_obvious_debiased\n",
      "t05_bulge_prominence_a12_obvious_flag\n",
      "t05_bulge_prominence_a13_dominant_count\n",
      "t05_bulge_prominence_a13_dominant_weight\n",
      "t05_bulge_prominence_a13_dominant_fraction\n",
      "t05_bulge_prominence_a13_dominant_weighted_fraction\n",
      "t05_bulge_prominence_a13_dominant_debiased\n",
      "t05_bulge_prominence_a13_dominant_flag\n",
      "t06_odd_a14_yes_count\n",
      "t06_odd_a14_yes_weight\n",
      "t06_odd_a14_yes_fraction\n",
      "t06_odd_a14_yes_weighted_fraction\n",
      "t06_odd_a14_yes_debiased\n",
      "t06_odd_a14_yes_flag\n",
      "t06_odd_a15_no_count\n",
      "t06_odd_a15_no_weight\n",
      "t06_odd_a15_no_fraction\n",
      "t06_odd_a15_no_weighted_fraction\n",
      "t06_odd_a15_no_debiased\n",
      "t06_odd_a15_no_flag\n",
      "t07_rounded_a16_completely_round_count\n",
      "t07_rounded_a16_completely_round_weight\n",
      "t07_rounded_a16_completely_round_fraction\n",
      "t07_rounded_a16_completely_round_weighted_fraction\n",
      "t07_rounded_a16_completely_round_debiased\n",
      "t07_rounded_a16_completely_round_flag\n",
      "t07_rounded_a17_in_between_count\n",
      "t07_rounded_a17_in_between_weight\n",
      "t07_rounded_a17_in_between_fraction\n",
      "t07_rounded_a17_in_between_weighted_fraction\n",
      "t07_rounded_a17_in_between_debiased\n",
      "t07_rounded_a17_in_between_flag\n",
      "t07_rounded_a18_cigar_shaped_count\n",
      "t07_rounded_a18_cigar_shaped_weight\n",
      "t07_rounded_a18_cigar_shaped_fraction\n",
      "t07_rounded_a18_cigar_shaped_weighted_fraction\n",
      "t07_rounded_a18_cigar_shaped_debiased\n",
      "t07_rounded_a18_cigar_shaped_flag\n",
      "t08_odd_feature_a19_ring_count\n",
      "t08_odd_feature_a19_ring_weight\n",
      "t08_odd_feature_a19_ring_fraction\n",
      "t08_odd_feature_a19_ring_weighted_fraction\n",
      "t08_odd_feature_a19_ring_debiased\n",
      "t08_odd_feature_a19_ring_flag\n",
      "t08_odd_feature_a20_lens_or_arc_count\n",
      "t08_odd_feature_a20_lens_or_arc_weight\n",
      "t08_odd_feature_a20_lens_or_arc_fraction\n",
      "t08_odd_feature_a20_lens_or_arc_weighted_fraction\n",
      "t08_odd_feature_a20_lens_or_arc_debiased\n",
      "t08_odd_feature_a20_lens_or_arc_flag\n",
      "t08_odd_feature_a21_disturbed_count\n",
      "t08_odd_feature_a21_disturbed_weight\n",
      "t08_odd_feature_a21_disturbed_fraction\n",
      "t08_odd_feature_a21_disturbed_weighted_fraction\n",
      "t08_odd_feature_a21_disturbed_debiased\n",
      "t08_odd_feature_a21_disturbed_flag\n",
      "t08_odd_feature_a22_irregular_count\n",
      "t08_odd_feature_a22_irregular_weight\n",
      "t08_odd_feature_a22_irregular_fraction\n",
      "t08_odd_feature_a22_irregular_weighted_fraction\n",
      "t08_odd_feature_a22_irregular_debiased\n",
      "t08_odd_feature_a22_irregular_flag\n",
      "t08_odd_feature_a23_other_count\n",
      "t08_odd_feature_a23_other_weight\n",
      "t08_odd_feature_a23_other_fraction\n",
      "t08_odd_feature_a23_other_weighted_fraction\n",
      "t08_odd_feature_a23_other_debiased\n",
      "t08_odd_feature_a23_other_flag\n",
      "t08_odd_feature_a24_merger_count\n",
      "t08_odd_feature_a24_merger_weight\n",
      "t08_odd_feature_a24_merger_fraction\n",
      "t08_odd_feature_a24_merger_weighted_fraction\n",
      "t08_odd_feature_a24_merger_debiased\n",
      "t08_odd_feature_a24_merger_flag\n",
      "t08_odd_feature_a38_dust_lane_count\n",
      "t08_odd_feature_a38_dust_lane_weight\n",
      "t08_odd_feature_a38_dust_lane_fraction\n",
      "t08_odd_feature_a38_dust_lane_weighted_fraction\n",
      "t08_odd_feature_a38_dust_lane_debiased\n",
      "t08_odd_feature_a38_dust_lane_flag\n",
      "t09_bulge_shape_a25_rounded_count\n",
      "t09_bulge_shape_a25_rounded_weight\n",
      "t09_bulge_shape_a25_rounded_fraction\n",
      "t09_bulge_shape_a25_rounded_weighted_fraction\n",
      "t09_bulge_shape_a25_rounded_debiased\n",
      "t09_bulge_shape_a25_rounded_flag\n",
      "t09_bulge_shape_a26_boxy_count\n",
      "t09_bulge_shape_a26_boxy_weight\n",
      "t09_bulge_shape_a26_boxy_fraction\n",
      "t09_bulge_shape_a26_boxy_weighted_fraction\n",
      "t09_bulge_shape_a26_boxy_debiased\n",
      "t09_bulge_shape_a26_boxy_flag\n",
      "t09_bulge_shape_a27_no_bulge_count\n",
      "t09_bulge_shape_a27_no_bulge_weight\n",
      "t09_bulge_shape_a27_no_bulge_fraction\n",
      "t09_bulge_shape_a27_no_bulge_weighted_fraction\n",
      "t09_bulge_shape_a27_no_bulge_debiased\n",
      "t09_bulge_shape_a27_no_bulge_flag\n",
      "t10_arms_winding_a28_tight_count\n",
      "t10_arms_winding_a28_tight_weight\n",
      "t10_arms_winding_a28_tight_fraction\n",
      "t10_arms_winding_a28_tight_weighted_fraction\n",
      "t10_arms_winding_a28_tight_debiased\n",
      "t10_arms_winding_a28_tight_flag\n",
      "t10_arms_winding_a29_medium_count\n",
      "t10_arms_winding_a29_medium_weight\n",
      "t10_arms_winding_a29_medium_fraction\n",
      "t10_arms_winding_a29_medium_weighted_fraction\n",
      "t10_arms_winding_a29_medium_debiased\n",
      "t10_arms_winding_a29_medium_flag\n",
      "t10_arms_winding_a30_loose_count\n",
      "t10_arms_winding_a30_loose_weight\n",
      "t10_arms_winding_a30_loose_fraction\n",
      "t10_arms_winding_a30_loose_weighted_fraction\n",
      "t10_arms_winding_a30_loose_debiased\n",
      "t10_arms_winding_a30_loose_flag\n",
      "t11_arms_number_a31_1_count\n",
      "t11_arms_number_a31_1_weight\n",
      "t11_arms_number_a31_1_fraction\n",
      "t11_arms_number_a31_1_weighted_fraction\n",
      "t11_arms_number_a31_1_debiased\n",
      "t11_arms_number_a31_1_flag\n",
      "t11_arms_number_a32_2_count\n",
      "t11_arms_number_a32_2_weight\n",
      "t11_arms_number_a32_2_fraction\n",
      "t11_arms_number_a32_2_weighted_fraction\n",
      "t11_arms_number_a32_2_debiased\n",
      "t11_arms_number_a32_2_flag\n",
      "t11_arms_number_a33_3_count\n",
      "t11_arms_number_a33_3_weight\n",
      "t11_arms_number_a33_3_fraction\n",
      "t11_arms_number_a33_3_weighted_fraction\n",
      "t11_arms_number_a33_3_debiased\n",
      "t11_arms_number_a33_3_flag\n",
      "t11_arms_number_a34_4_count\n",
      "t11_arms_number_a34_4_weight\n",
      "t11_arms_number_a34_4_fraction\n",
      "t11_arms_number_a34_4_weighted_fraction\n",
      "t11_arms_number_a34_4_debiased\n",
      "t11_arms_number_a34_4_flag\n",
      "t11_arms_number_a36_more_than_4_count\n",
      "t11_arms_number_a36_more_than_4_weight\n",
      "t11_arms_number_a36_more_than_4_fraction\n",
      "t11_arms_number_a36_more_than_4_weighted_fraction\n",
      "t11_arms_number_a36_more_than_4_debiased\n",
      "t11_arms_number_a36_more_than_4_flag\n",
      "t11_arms_number_a37_cant_tell_count\n",
      "t11_arms_number_a37_cant_tell_weight\n",
      "t11_arms_number_a37_cant_tell_fraction\n",
      "t11_arms_number_a37_cant_tell_weighted_fraction\n",
      "t11_arms_number_a37_cant_tell_debiased\n",
      "t11_arms_number_a37_cant_tell_flag\n"
     ]
    }
   ],
   "source": [
    "for c in gz2.columns:\n",
    "    print(c)"
   ]
  },
  {
   "cell_type": "code",
   "execution_count": 17,
   "metadata": {
    "scrolled": true
   },
   "outputs": [
    {
     "data": {
      "image/png": "[encoded data removed]",
      "text/plain": [
       "<matplotlib.figure.Figure at 0x2011fdb25c0>"
      ]
     },
     "metadata": {},
     "output_type": "display_data"
    }
   ],
   "source": [
    "plt.hist(label_df['Class1.1'], bins=400);"
   ]
  },
  {
   "cell_type": "code",
   "execution_count": 18,
   "metadata": {},
   "outputs": [
    {
     "data": {
      "image/png": "[encoded data removed]",
      "text/plain": [
       "<matplotlib.figure.Figure at 0x2010229c7f0>"
      ]
     },
     "metadata": {},
     "output_type": "display_data"
    }
   ],
   "source": [
    "plt.hist(label_df['Class1.2'], bins=400);"
   ]
  },
  {
   "cell_type": "code",
   "execution_count": 19,
   "metadata": {},
   "outputs": [
    {
     "data": {
      "image/png": "[encoded data removed]",
      "text/plain": [
       "<matplotlib.figure.Figure at 0x20100e9b978>"
      ]
     },
     "metadata": {},
     "output_type": "display_data"
    }
   ],
   "source": [
    "plt.hist(label_df['Class1.3'], bins=400);"
   ]
  },
  {
   "cell_type": "code",
   "execution_count": 20,
   "metadata": {},
   "outputs": [
    {
     "data": {
      "image/png": "[encoded data removed]",
      "text/plain": [
       "<matplotlib.figure.Figure at 0x201008bc1d0>"
      ]
     },
     "metadata": {},
     "output_type": "display_data"
    }
   ],
   "source": [
    "plt.hist(gz2['t01_smooth_or_features_a01_smooth_weighted_fraction'], bins=400);"
   ]
  },
  {
   "cell_type": "code",
   "execution_count": 21,
   "metadata": {},
   "outputs": [
    {
     "data": {
      "image/png": "[encoded data removed]",
      "text/plain": [
       "<matplotlib.figure.Figure at 0x20101183320>"
      ]
     },
     "metadata": {},
     "output_type": "display_data"
    }
   ],
   "source": [
    "plt.hist(gz2['t01_smooth_or_features_a02_features_or_disk_weighted_fraction'], bins=400);"
   ]
  },
  {
   "cell_type": "code",
   "execution_count": 22,
   "metadata": {},
   "outputs": [
    {
     "data": {
      "image/png": "[encoded data removed]",
      "text/plain": [
       "<matplotlib.figure.Figure at 0x2010154ac50>"
      ]
     },
     "metadata": {},
     "output_type": "display_data"
    }
   ],
   "source": [
    "plt.hist(gz2['t01_smooth_or_features_a03_star_or_artifact_weighted_fraction'], bins=400);"
   ]
  },
  {
   "cell_type": "markdown",
   "metadata": {},
   "source": [
    "From this I believe that the Kaggle data set comprises the *weighted* fractions of answers. Otherwise we would expect to see peaks corresponding to multiples of 40, 41, 42, (the number of volunteers who answered yes or no), etc."
   ]
  },
  {
   "cell_type": "code",
   "execution_count": 23,
   "metadata": {
    "scrolled": true
   },
   "outputs": [
    {
     "data": {
      "text/html": [
       "<div>\n",
       "<style scoped>\n",
       "    .dataframe tbody tr th:only-of-type {\n",
       "        vertical-align: middle;\n",
       "    }\n",
       "\n",
       "    .dataframe tbody tr th {\n",
       "        vertical-align: top;\n",
       "    }\n",
       "\n",
       "    .dataframe thead th {\n",
       "        text-align: right;\n",
       "    }\n",
       "</style>\n",
       "<table border=\"1\" class=\"dataframe\">\n",
       "  <thead>\n",
       "    <tr style=\"text-align: right;\">\n",
       "      <th></th>\n",
       "      <th>SpecObjID</th>\n",
       "      <th>Class1.1</th>\n",
       "      <th>Class1.2</th>\n",
       "      <th>Class1.3</th>\n",
       "    </tr>\n",
       "  </thead>\n",
       "  <tbody>\n",
       "    <tr>\n",
       "      <th>count</th>\n",
       "      <td>2.434860e+05</td>\n",
       "      <td>243500.000000</td>\n",
       "      <td>243500.000000</td>\n",
       "      <td>243500.000000</td>\n",
       "    </tr>\n",
       "    <tr>\n",
       "      <th>mean</th>\n",
       "      <td>1.705785e+18</td>\n",
       "      <td>0.644157</td>\n",
       "      <td>0.324783</td>\n",
       "      <td>0.031055</td>\n",
       "    </tr>\n",
       "    <tr>\n",
       "      <th>std</th>\n",
       "      <td>8.225568e+17</td>\n",
       "      <td>0.288679</td>\n",
       "      <td>0.296113</td>\n",
       "      <td>0.041355</td>\n",
       "    </tr>\n",
       "    <tr>\n",
       "      <th>min</th>\n",
       "      <td>-9.999000e+03</td>\n",
       "      <td>0.000000</td>\n",
       "      <td>0.000000</td>\n",
       "      <td>0.000000</td>\n",
       "    </tr>\n",
       "    <tr>\n",
       "      <th>25%</th>\n",
       "      <td>1.019059e+18</td>\n",
       "      <td>0.455000</td>\n",
       "      <td>0.092000</td>\n",
       "      <td>0.000000</td>\n",
       "    </tr>\n",
       "    <tr>\n",
       "      <th>50%</th>\n",
       "      <td>1.781203e+18</td>\n",
       "      <td>0.767000</td>\n",
       "      <td>0.194000</td>\n",
       "      <td>0.024000</td>\n",
       "    </tr>\n",
       "    <tr>\n",
       "      <th>75%</th>\n",
       "      <td>2.382500e+18</td>\n",
       "      <td>0.871000</td>\n",
       "      <td>0.515000</td>\n",
       "      <td>0.046000</td>\n",
       "    </tr>\n",
       "    <tr>\n",
       "      <th>max</th>\n",
       "      <td>3.383502e+18</td>\n",
       "      <td>1.000000</td>\n",
       "      <td>1.000000</td>\n",
       "      <td>0.967000</td>\n",
       "    </tr>\n",
       "  </tbody>\n",
       "</table>\n",
       "</div>"
      ],
      "text/plain": [
       "          SpecObjID       Class1.1       Class1.2       Class1.3\n",
       "count  2.434860e+05  243500.000000  243500.000000  243500.000000\n",
       "mean   1.705785e+18       0.644157       0.324783       0.031055\n",
       "std    8.225568e+17       0.288679       0.296113       0.041355\n",
       "min   -9.999000e+03       0.000000       0.000000       0.000000\n",
       "25%    1.019059e+18       0.455000       0.092000       0.000000\n",
       "50%    1.781203e+18       0.767000       0.194000       0.024000\n",
       "75%    2.382500e+18       0.871000       0.515000       0.046000\n",
       "max    3.383502e+18       1.000000       1.000000       0.967000"
      ]
     },
     "execution_count": 23,
     "metadata": {},
     "output_type": "execute_result"
    }
   ],
   "source": [
    "# question 1 (weighted)\n",
    "gz2_q1 = gz2[['specobjid', 't01_smooth_or_features_a01_smooth_weighted_fraction', 't01_smooth_or_features_a02_features_or_disk_weighted_fraction', 't01_smooth_or_features_a03_star_or_artifact_weighted_fraction']]\n",
    "#gz2_q1.set_index('specobjid', inplace=True)\n",
    "gz2_q1.columns = ['SpecObjID', 'Class1.1', 'Class1.2', 'Class1.3']\n",
    "gz2_q1.describe()"
   ]
  },
  {
   "cell_type": "code",
   "execution_count": 24,
   "metadata": {},
   "outputs": [],
   "source": [
    "from astroML.crossmatch import crossmatch"
   ]
  },
  {
   "cell_type": "code",
   "execution_count": 25,
   "metadata": {},
   "outputs": [],
   "source": [
    "# inds of gz2_q1 in label_df\n",
    "_, inds = crossmatch(label_df[['Class1.1', 'Class1.2', 'Class1.3']].as_matrix(), \n",
    "                     gz2_q1[['Class1.1', 'Class1.2', 'Class1.3']].as_matrix(),\n",
    "                     max_distance=1e-2)"
   ]
  },
  {
   "cell_type": "code",
   "execution_count": 26,
   "metadata": {},
   "outputs": [
    {
     "data": {
      "image/png": "[encoded data removed]",
      "text/plain": [
       "<matplotlib.figure.Figure at 0x20101543320>"
      ]
     },
     "metadata": {},
     "output_type": "display_data"
    }
   ],
   "source": [
    "plt.hist(inds, bins=1000);"
   ]
  },
  {
   "cell_type": "code",
   "execution_count": 27,
   "metadata": {},
   "outputs": [
    {
     "data": {
      "text/plain": [
       "(61578, 243500)"
      ]
     },
     "execution_count": 27,
     "metadata": {},
     "output_type": "execute_result"
    }
   ],
   "source": [
    "len(label_df), len(gz2_q1)"
   ]
  },
  {
   "cell_type": "code",
   "execution_count": 28,
   "metadata": {},
   "outputs": [
    {
     "data": {
      "text/plain": [
       "SpecObjID    9.796786e+17\n",
       "Class1.1     0.000000e+00\n",
       "Class1.2     1.000000e+00\n",
       "Class1.3     0.000000e+00\n",
       "Name: 175539, dtype: float64"
      ]
     },
     "execution_count": 28,
     "metadata": {},
     "output_type": "execute_result"
    }
   ],
   "source": [
    "# what's going on here?\n",
    "unique_inds, inds_of_inds, counts = np.unique(inds, return_index=True, return_counts=True)\n",
    "max_ind = unique_inds[np.argmax(counts)]\n",
    "gz2_q1.iloc[max_ind]"
   ]
  },
  {
   "cell_type": "markdown",
   "metadata": {},
   "source": [
    "Ahh, makes sense. Some things are 100% classified as spiral or 100% classified as spheroidal, so they can't be distinguished from the others. Let's try throwing away all non-unique indices and see how many are left."
   ]
  },
  {
   "cell_type": "code",
   "execution_count": 29,
   "metadata": {},
   "outputs": [
    {
     "data": {
      "text/plain": [
       "(14504,)"
      ]
     },
     "execution_count": 29,
     "metadata": {},
     "output_type": "execute_result"
    }
   ],
   "source": [
    "unique_inds[counts == 1].shape"
   ]
  },
  {
   "cell_type": "code",
   "execution_count": 30,
   "metadata": {},
   "outputs": [
    {
     "data": {
      "text/html": [
       "<div>\n",
       "<style scoped>\n",
       "    .dataframe tbody tr th:only-of-type {\n",
       "        vertical-align: middle;\n",
       "    }\n",
       "\n",
       "    .dataframe tbody tr th {\n",
       "        vertical-align: top;\n",
       "    }\n",
       "\n",
       "    .dataframe thead th {\n",
       "        text-align: right;\n",
       "    }\n",
       "</style>\n",
       "<table border=\"1\" class=\"dataframe\">\n",
       "  <thead>\n",
       "    <tr style=\"text-align: right;\">\n",
       "      <th></th>\n",
       "      <th>SpecObjID</th>\n",
       "      <th>Class1.1</th>\n",
       "      <th>Class1.2</th>\n",
       "      <th>Class1.3</th>\n",
       "    </tr>\n",
       "  </thead>\n",
       "  <tbody>\n",
       "    <tr>\n",
       "      <th>7</th>\n",
       "      <td>1.625961e+18</td>\n",
       "      <td>0.091</td>\n",
       "      <td>0.871</td>\n",
       "      <td>0.038</td>\n",
       "    </tr>\n",
       "    <tr>\n",
       "      <th>11</th>\n",
       "      <td>5.888704e+17</td>\n",
       "      <td>0.071</td>\n",
       "      <td>0.873</td>\n",
       "      <td>0.056</td>\n",
       "    </tr>\n",
       "    <tr>\n",
       "      <th>23</th>\n",
       "      <td>1.631477e+18</td>\n",
       "      <td>0.067</td>\n",
       "      <td>0.918</td>\n",
       "      <td>0.014</td>\n",
       "    </tr>\n",
       "    <tr>\n",
       "      <th>51</th>\n",
       "      <td>1.818456e+18</td>\n",
       "      <td>0.380</td>\n",
       "      <td>0.598</td>\n",
       "      <td>0.023</td>\n",
       "    </tr>\n",
       "    <tr>\n",
       "      <th>68</th>\n",
       "      <td>5.889144e+17</td>\n",
       "      <td>0.301</td>\n",
       "      <td>0.696</td>\n",
       "      <td>0.003</td>\n",
       "    </tr>\n",
       "  </tbody>\n",
       "</table>\n",
       "</div>"
      ],
      "text/plain": [
       "       SpecObjID  Class1.1  Class1.2  Class1.3\n",
       "7   1.625961e+18     0.091     0.871     0.038\n",
       "11  5.888704e+17     0.071     0.873     0.056\n",
       "23  1.631477e+18     0.067     0.918     0.014\n",
       "51  1.818456e+18     0.380     0.598     0.023\n",
       "68  5.889144e+17     0.301     0.696     0.003"
      ]
     },
     "execution_count": 30,
     "metadata": {},
     "output_type": "execute_result"
    }
   ],
   "source": [
    "# unique indices of\n",
    "unique_gz2 = gz2_q1.iloc[unique_inds[counts == 1]]\n",
    "unique_gz2.head()"
   ]
  },
  {
   "cell_type": "code",
   "execution_count": 31,
   "metadata": {},
   "outputs": [
    {
     "data": {
      "text/html": [
       "<div>\n",
       "<style scoped>\n",
       "    .dataframe tbody tr th:only-of-type {\n",
       "        vertical-align: middle;\n",
       "    }\n",
       "\n",
       "    .dataframe tbody tr th {\n",
       "        vertical-align: top;\n",
       "    }\n",
       "\n",
       "    .dataframe thead th {\n",
       "        text-align: right;\n",
       "    }\n",
       "</style>\n",
       "<table border=\"1\" class=\"dataframe\">\n",
       "  <thead>\n",
       "    <tr style=\"text-align: right;\">\n",
       "      <th></th>\n",
       "      <th>GalaxyID</th>\n",
       "      <th>Class1.1</th>\n",
       "      <th>Class1.2</th>\n",
       "      <th>Class1.3</th>\n",
       "      <th>Class2.1</th>\n",
       "      <th>Class2.2</th>\n",
       "      <th>Class3.1</th>\n",
       "      <th>Class3.2</th>\n",
       "      <th>Class4.1</th>\n",
       "      <th>Class4.2</th>\n",
       "      <th>...</th>\n",
       "      <th>Class9.3</th>\n",
       "      <th>Class10.1</th>\n",
       "      <th>Class10.2</th>\n",
       "      <th>Class10.3</th>\n",
       "      <th>Class11.1</th>\n",
       "      <th>Class11.2</th>\n",
       "      <th>Class11.3</th>\n",
       "      <th>Class11.4</th>\n",
       "      <th>Class11.5</th>\n",
       "      <th>Class11.6</th>\n",
       "    </tr>\n",
       "  </thead>\n",
       "  <tbody>\n",
       "    <tr>\n",
       "      <th>3448</th>\n",
       "      <td>151758</td>\n",
       "      <td>0.091882</td>\n",
       "      <td>0.869566</td>\n",
       "      <td>0.038552</td>\n",
       "      <td>0.000000</td>\n",
       "      <td>0.869566</td>\n",
       "      <td>0.047983</td>\n",
       "      <td>0.821583</td>\n",
       "      <td>0.050693</td>\n",
       "      <td>0.818873</td>\n",
       "      <td>...</td>\n",
       "      <td>0.000000</td>\n",
       "      <td>0.009495</td>\n",
       "      <td>0.041198</td>\n",
       "      <td>0.000000</td>\n",
       "      <td>0.000000</td>\n",
       "      <td>0.000000</td>\n",
       "      <td>0.000000</td>\n",
       "      <td>0.000000</td>\n",
       "      <td>0.021545</td>\n",
       "      <td>0.029149</td>\n",
       "    </tr>\n",
       "    <tr>\n",
       "      <th>1954</th>\n",
       "      <td>129195</td>\n",
       "      <td>0.069904</td>\n",
       "      <td>0.873496</td>\n",
       "      <td>0.056601</td>\n",
       "      <td>0.032767</td>\n",
       "      <td>0.840729</td>\n",
       "      <td>0.656358</td>\n",
       "      <td>0.184371</td>\n",
       "      <td>0.406235</td>\n",
       "      <td>0.434495</td>\n",
       "      <td>...</td>\n",
       "      <td>0.000000</td>\n",
       "      <td>0.153209</td>\n",
       "      <td>0.094545</td>\n",
       "      <td>0.158480</td>\n",
       "      <td>0.017944</td>\n",
       "      <td>0.068722</td>\n",
       "      <td>0.076622</td>\n",
       "      <td>0.081414</td>\n",
       "      <td>0.000000</td>\n",
       "      <td>0.161533</td>\n",
       "    </tr>\n",
       "    <tr>\n",
       "      <th>52636</th>\n",
       "      <td>866833</td>\n",
       "      <td>0.067146</td>\n",
       "      <td>0.919020</td>\n",
       "      <td>0.013833</td>\n",
       "      <td>0.023996</td>\n",
       "      <td>0.895024</td>\n",
       "      <td>0.412323</td>\n",
       "      <td>0.482702</td>\n",
       "      <td>0.640864</td>\n",
       "      <td>0.254160</td>\n",
       "      <td>...</td>\n",
       "      <td>0.000000</td>\n",
       "      <td>0.070494</td>\n",
       "      <td>0.136311</td>\n",
       "      <td>0.434059</td>\n",
       "      <td>0.000000</td>\n",
       "      <td>0.501635</td>\n",
       "      <td>0.051127</td>\n",
       "      <td>0.000000</td>\n",
       "      <td>0.059267</td>\n",
       "      <td>0.028835</td>\n",
       "    </tr>\n",
       "    <tr>\n",
       "      <th>1236</th>\n",
       "      <td>118644</td>\n",
       "      <td>0.379620</td>\n",
       "      <td>0.597403</td>\n",
       "      <td>0.022977</td>\n",
       "      <td>0.413403</td>\n",
       "      <td>0.184000</td>\n",
       "      <td>0.115000</td>\n",
       "      <td>0.069000</td>\n",
       "      <td>0.115000</td>\n",
       "      <td>0.069000</td>\n",
       "      <td>...</td>\n",
       "      <td>0.137663</td>\n",
       "      <td>0.000000</td>\n",
       "      <td>0.023000</td>\n",
       "      <td>0.092000</td>\n",
       "      <td>0.000000</td>\n",
       "      <td>0.115000</td>\n",
       "      <td>0.000000</td>\n",
       "      <td>0.000000</td>\n",
       "      <td>0.000000</td>\n",
       "      <td>0.000000</td>\n",
       "    </tr>\n",
       "    <tr>\n",
       "      <th>60274</th>\n",
       "      <td>981080</td>\n",
       "      <td>0.300151</td>\n",
       "      <td>0.695930</td>\n",
       "      <td>0.003919</td>\n",
       "      <td>0.118545</td>\n",
       "      <td>0.577385</td>\n",
       "      <td>0.050820</td>\n",
       "      <td>0.526564</td>\n",
       "      <td>0.355654</td>\n",
       "      <td>0.221731</td>\n",
       "      <td>...</td>\n",
       "      <td>0.079963</td>\n",
       "      <td>0.316032</td>\n",
       "      <td>0.039622</td>\n",
       "      <td>0.000000</td>\n",
       "      <td>0.000000</td>\n",
       "      <td>0.081253</td>\n",
       "      <td>0.000000</td>\n",
       "      <td>0.000000</td>\n",
       "      <td>0.000000</td>\n",
       "      <td>0.274401</td>\n",
       "    </tr>\n",
       "  </tbody>\n",
       "</table>\n",
       "<p>5 rows × 38 columns</p>\n",
       "</div>"
      ],
      "text/plain": [
       "       GalaxyID  Class1.1  Class1.2  Class1.3  Class2.1  Class2.2  Class3.1  \\\n",
       "3448     151758  0.091882  0.869566  0.038552  0.000000  0.869566  0.047983   \n",
       "1954     129195  0.069904  0.873496  0.056601  0.032767  0.840729  0.656358   \n",
       "52636    866833  0.067146  0.919020  0.013833  0.023996  0.895024  0.412323   \n",
       "1236     118644  0.379620  0.597403  0.022977  0.413403  0.184000  0.115000   \n",
       "60274    981080  0.300151  0.695930  0.003919  0.118545  0.577385  0.050820   \n",
       "\n",
       "       Class3.2  Class4.1  Class4.2    ...      Class9.3  Class10.1  \\\n",
       "3448   0.821583  0.050693  0.818873    ...      0.000000   0.009495   \n",
       "1954   0.184371  0.406235  0.434495    ...      0.000000   0.153209   \n",
       "52636  0.482702  0.640864  0.254160    ...      0.000000   0.070494   \n",
       "1236   0.069000  0.115000  0.069000    ...      0.137663   0.000000   \n",
       "60274  0.526564  0.355654  0.221731    ...      0.079963   0.316032   \n",
       "\n",
       "       Class10.2  Class10.3  Class11.1  Class11.2  Class11.3  Class11.4  \\\n",
       "3448    0.041198   0.000000   0.000000   0.000000   0.000000   0.000000   \n",
       "1954    0.094545   0.158480   0.017944   0.068722   0.076622   0.081414   \n",
       "52636   0.136311   0.434059   0.000000   0.501635   0.051127   0.000000   \n",
       "1236    0.023000   0.092000   0.000000   0.115000   0.000000   0.000000   \n",
       "60274   0.039622   0.000000   0.000000   0.081253   0.000000   0.000000   \n",
       "\n",
       "       Class11.5  Class11.6  \n",
       "3448    0.021545   0.029149  \n",
       "1954    0.000000   0.161533  \n",
       "52636   0.059267   0.028835  \n",
       "1236    0.000000   0.000000  \n",
       "60274   0.000000   0.274401  \n",
       "\n",
       "[5 rows x 38 columns]"
      ]
     },
     "execution_count": 31,
     "metadata": {},
     "output_type": "execute_result"
    }
   ],
   "source": [
    "# indices of the unique crossmatched indices (i.e., where label_df X gz2 is unique)\n",
    "unique_kaggle = label_df.iloc[inds_of_inds[counts == 1]]\n",
    "unique_kaggle.head()"
   ]
  },
  {
   "cell_type": "markdown",
   "metadata": {},
   "source": [
    "#### Note: these might still be mismatched galaxies, which would then make their properties (such as BPT classification) incorrect. Oh well, let's give it a go."
   ]
  },
  {
   "cell_type": "code",
   "execution_count": 32,
   "metadata": {},
   "outputs": [
    {
     "data": {
      "text/plain": [
       "((14504, 38), (14504, 4))"
      ]
     },
     "execution_count": 32,
     "metadata": {},
     "output_type": "execute_result"
    }
   ],
   "source": [
    "unique_kaggle.shape, unique_gz2.shape"
   ]
  },
  {
   "cell_type": "code",
   "execution_count": 33,
   "metadata": {},
   "outputs": [
    {
     "data": {
      "text/html": [
       "<div>\n",
       "<style scoped>\n",
       "    .dataframe tbody tr th:only-of-type {\n",
       "        vertical-align: middle;\n",
       "    }\n",
       "\n",
       "    .dataframe tbody tr th {\n",
       "        vertical-align: top;\n",
       "    }\n",
       "\n",
       "    .dataframe thead th {\n",
       "        text-align: right;\n",
       "    }\n",
       "</style>\n",
       "<table border=\"1\" class=\"dataframe\">\n",
       "  <thead>\n",
       "    <tr style=\"text-align: right;\">\n",
       "      <th></th>\n",
       "      <th>GalaxyID</th>\n",
       "      <th>SpecObjID</th>\n",
       "    </tr>\n",
       "  </thead>\n",
       "  <tbody>\n",
       "    <tr>\n",
       "      <th>0</th>\n",
       "      <td>151758</td>\n",
       "      <td>1.625961e+18</td>\n",
       "    </tr>\n",
       "    <tr>\n",
       "      <th>1</th>\n",
       "      <td>129195</td>\n",
       "      <td>5.888704e+17</td>\n",
       "    </tr>\n",
       "    <tr>\n",
       "      <th>2</th>\n",
       "      <td>866833</td>\n",
       "      <td>1.631477e+18</td>\n",
       "    </tr>\n",
       "    <tr>\n",
       "      <th>3</th>\n",
       "      <td>118644</td>\n",
       "      <td>1.818456e+18</td>\n",
       "    </tr>\n",
       "    <tr>\n",
       "      <th>4</th>\n",
       "      <td>981080</td>\n",
       "      <td>5.889144e+17</td>\n",
       "    </tr>\n",
       "  </tbody>\n",
       "</table>\n",
       "</div>"
      ],
      "text/plain": [
       "   GalaxyID     SpecObjID\n",
       "0    151758  1.625961e+18\n",
       "1    129195  5.888704e+17\n",
       "2    866833  1.631477e+18\n",
       "3    118644  1.818456e+18\n",
       "4    981080  5.889144e+17"
      ]
     },
     "execution_count": 33,
     "metadata": {},
     "output_type": "execute_result"
    }
   ],
   "source": [
    "unique = pd.DataFrame({'GalaxyID': unique_kaggle.GalaxyID.as_matrix(),\n",
    "                       'SpecObjID': unique_gz2.SpecObjID.as_matrix()})\n",
    "unique.head()"
   ]
  },
  {
   "cell_type": "code",
   "execution_count": 34,
   "metadata": {},
   "outputs": [
    {
     "data": {
      "text/plain": [
       "GalaxyID       int64\n",
       "SpecObjID    float64\n",
       "dtype: object"
      ]
     },
     "execution_count": 34,
     "metadata": {},
     "output_type": "execute_result"
    }
   ],
   "source": [
    "unique.dtypes"
   ]
  },
  {
   "cell_type": "markdown",
   "metadata": {},
   "source": [
    "The reason that the SpecObjID dtype is `float` is because there were NaN values in there apparently. Let's just `int` cast them now."
   ]
  },
  {
   "cell_type": "code",
   "execution_count": 35,
   "metadata": {},
   "outputs": [
    {
     "data": {
      "text/html": [
       "<div>\n",
       "<style scoped>\n",
       "    .dataframe tbody tr th:only-of-type {\n",
       "        vertical-align: middle;\n",
       "    }\n",
       "\n",
       "    .dataframe tbody tr th {\n",
       "        vertical-align: top;\n",
       "    }\n",
       "\n",
       "    .dataframe thead th {\n",
       "        text-align: right;\n",
       "    }\n",
       "</style>\n",
       "<table border=\"1\" class=\"dataframe\">\n",
       "  <thead>\n",
       "    <tr style=\"text-align: right;\">\n",
       "      <th></th>\n",
       "      <th>GalaxyID</th>\n",
       "      <th>SpecObjID</th>\n",
       "    </tr>\n",
       "  </thead>\n",
       "  <tbody>\n",
       "    <tr>\n",
       "      <th>0</th>\n",
       "      <td>151758</td>\n",
       "      <td>1625960870049769472</td>\n",
       "    </tr>\n",
       "    <tr>\n",
       "      <th>1</th>\n",
       "      <td>129195</td>\n",
       "      <td>588870424280983552</td>\n",
       "    </tr>\n",
       "    <tr>\n",
       "      <th>2</th>\n",
       "      <td>866833</td>\n",
       "      <td>1631476571170695168</td>\n",
       "    </tr>\n",
       "    <tr>\n",
       "      <th>3</th>\n",
       "      <td>118644</td>\n",
       "      <td>1818456220894259200</td>\n",
       "    </tr>\n",
       "    <tr>\n",
       "      <th>4</th>\n",
       "      <td>981080</td>\n",
       "      <td>588914404746094592</td>\n",
       "    </tr>\n",
       "  </tbody>\n",
       "</table>\n",
       "</div>"
      ],
      "text/plain": [
       "   GalaxyID            SpecObjID\n",
       "0    151758  1625960870049769472\n",
       "1    129195   588870424280983552\n",
       "2    866833  1631476571170695168\n",
       "3    118644  1818456220894259200\n",
       "4    981080   588914404746094592"
      ]
     },
     "execution_count": 35,
     "metadata": {},
     "output_type": "execute_result"
    }
   ],
   "source": [
    "unique.dropna(inplace=True)\n",
    "unique.SpecObjID = pd.to_numeric(unique.SpecObjID, downcast='integer')\n",
    "unique.head()"
   ]
  },
  {
   "cell_type": "code",
   "execution_count": 36,
   "metadata": {},
   "outputs": [
    {
     "data": {
      "text/html": [
       "<div>\n",
       "<style scoped>\n",
       "    .dataframe tbody tr th:only-of-type {\n",
       "        vertical-align: middle;\n",
       "    }\n",
       "\n",
       "    .dataframe tbody tr th {\n",
       "        vertical-align: top;\n",
       "    }\n",
       "\n",
       "    .dataframe thead th {\n",
       "        text-align: right;\n",
       "    }\n",
       "</style>\n",
       "<table border=\"1\" class=\"dataframe\">\n",
       "  <thead>\n",
       "    <tr style=\"text-align: right;\">\n",
       "      <th></th>\n",
       "      <th>SpecObjID</th>\n",
       "      <th>BPTClass</th>\n",
       "    </tr>\n",
       "  </thead>\n",
       "  <tbody>\n",
       "    <tr>\n",
       "      <th>0</th>\n",
       "      <td>299489676975171584</td>\n",
       "      <td>3</td>\n",
       "    </tr>\n",
       "    <tr>\n",
       "      <th>1</th>\n",
       "      <td>299489951853078464</td>\n",
       "      <td>-1</td>\n",
       "    </tr>\n",
       "    <tr>\n",
       "      <th>2</th>\n",
       "      <td>299490226730985472</td>\n",
       "      <td>-1</td>\n",
       "    </tr>\n",
       "    <tr>\n",
       "      <th>3</th>\n",
       "      <td>299490501608892416</td>\n",
       "      <td>-1</td>\n",
       "    </tr>\n",
       "    <tr>\n",
       "      <th>4</th>\n",
       "      <td>299490776486799360</td>\n",
       "      <td>-1</td>\n",
       "    </tr>\n",
       "  </tbody>\n",
       "</table>\n",
       "</div>"
      ],
      "text/plain": [
       "            SpecObjID  BPTClass\n",
       "0  299489676975171584         3\n",
       "1  299489951853078464        -1\n",
       "2  299490226730985472        -1\n",
       "3  299490501608892416        -1\n",
       "4  299490776486799360        -1"
      ]
     },
     "execution_count": 36,
     "metadata": {},
     "output_type": "execute_result"
    }
   ],
   "source": [
    "for col in ['SpecObjID', 'BPTClass']:\n",
    "    bpt[col] = pd.to_numeric(bpt[col], errors='coerce')\n",
    "\n",
    "bpt.dropna(inplace=True)\n",
    "\n",
    "for col in ['SpecObjID', 'BPTClass']:\n",
    "    bpt[col] = pd.to_numeric(bpt[col], downcast='integer')\n",
    "\n",
    "bpt.head()"
   ]
  },
  {
   "cell_type": "code",
   "execution_count": 67,
   "metadata": {},
   "outputs": [
    {
     "data": {
      "text/html": [
       "<div>\n",
       "<style scoped>\n",
       "    .dataframe tbody tr th:only-of-type {\n",
       "        vertical-align: middle;\n",
       "    }\n",
       "\n",
       "    .dataframe tbody tr th {\n",
       "        vertical-align: top;\n",
       "    }\n",
       "\n",
       "    .dataframe thead th {\n",
       "        text-align: right;\n",
       "    }\n",
       "</style>\n",
       "<table border=\"1\" class=\"dataframe\">\n",
       "  <thead>\n",
       "    <tr style=\"text-align: right;\">\n",
       "      <th></th>\n",
       "      <th>SpecObjID</th>\n",
       "      <th>BPTClass</th>\n",
       "    </tr>\n",
       "    <tr>\n",
       "      <th>GalaxyID</th>\n",
       "      <th></th>\n",
       "      <th></th>\n",
       "    </tr>\n",
       "  </thead>\n",
       "  <tbody>\n",
       "    <tr>\n",
       "      <th>129195</th>\n",
       "      <td>588870424280983552</td>\n",
       "      <td>3</td>\n",
       "    </tr>\n",
       "    <tr>\n",
       "      <th>866833</th>\n",
       "      <td>1631476571170695168</td>\n",
       "      <td>1</td>\n",
       "    </tr>\n",
       "    <tr>\n",
       "      <th>118644</th>\n",
       "      <td>1818456220894259200</td>\n",
       "      <td>2</td>\n",
       "    </tr>\n",
       "    <tr>\n",
       "      <th>981080</th>\n",
       "      <td>588914404746094592</td>\n",
       "      <td>3</td>\n",
       "    </tr>\n",
       "    <tr>\n",
       "      <th>804743</th>\n",
       "      <td>1907332774558197760</td>\n",
       "      <td>-1</td>\n",
       "    </tr>\n",
       "  </tbody>\n",
       "</table>\n",
       "</div>"
      ],
      "text/plain": [
       "                    SpecObjID  BPTClass\n",
       "GalaxyID                               \n",
       "129195     588870424280983552         3\n",
       "866833    1631476571170695168         1\n",
       "118644    1818456220894259200         2\n",
       "981080     588914404746094592         3\n",
       "804743    1907332774558197760        -1"
      ]
     },
     "execution_count": 67,
     "metadata": {},
     "output_type": "execute_result"
    }
   ],
   "source": [
    "df = pd.merge(unique, bpt, how='inner')\n",
    "df.set_index('GalaxyID', inplace=True)\n",
    "df.head()"
   ]
  },
  {
   "cell_type": "code",
   "execution_count": 68,
   "metadata": {},
   "outputs": [
    {
     "data": {
      "text/plain": [
       "array([[<matplotlib.axes._subplots.AxesSubplot object at 0x000002012274FB70>]], dtype=object)"
      ]
     },
     "execution_count": 68,
     "metadata": {},
     "output_type": "execute_result"
    },
    {
     "data": {
      "image/png": "[encoded data removed]",
      "text/plain": [
       "<matplotlib.figure.Figure at 0x2012274fcc0>"
      ]
     },
     "metadata": {},
     "output_type": "display_data"
    }
   ],
   "source": [
    "df.hist(column='BPTClass', bins=6, grid=False)"
   ]
  },
  {
   "cell_type": "code",
   "execution_count": 69,
   "metadata": {},
   "outputs": [
    {
     "data": {
      "text/html": [
       "<div>\n",
       "<style scoped>\n",
       "    .dataframe tbody tr th:only-of-type {\n",
       "        vertical-align: middle;\n",
       "    }\n",
       "\n",
       "    .dataframe tbody tr th {\n",
       "        vertical-align: top;\n",
       "    }\n",
       "\n",
       "    .dataframe thead th {\n",
       "        text-align: right;\n",
       "    }\n",
       "</style>\n",
       "<table border=\"1\" class=\"dataframe\">\n",
       "  <thead>\n",
       "    <tr style=\"text-align: right;\">\n",
       "      <th></th>\n",
       "      <th>SpecObjID</th>\n",
       "      <th>BPTClass</th>\n",
       "    </tr>\n",
       "  </thead>\n",
       "  <tbody>\n",
       "    <tr>\n",
       "      <th>count</th>\n",
       "      <td>8.015000e+03</td>\n",
       "      <td>8015.000000</td>\n",
       "    </tr>\n",
       "    <tr>\n",
       "      <th>mean</th>\n",
       "      <td>1.681231e+18</td>\n",
       "      <td>2.342732</td>\n",
       "    </tr>\n",
       "    <tr>\n",
       "      <th>std</th>\n",
       "      <td>8.362216e+17</td>\n",
       "      <td>1.464049</td>\n",
       "    </tr>\n",
       "    <tr>\n",
       "      <th>min</th>\n",
       "      <td>2.995086e+17</td>\n",
       "      <td>1.000000</td>\n",
       "    </tr>\n",
       "    <tr>\n",
       "      <th>25%</th>\n",
       "      <td>9.874787e+17</td>\n",
       "      <td>1.000000</td>\n",
       "    </tr>\n",
       "    <tr>\n",
       "      <th>50%</th>\n",
       "      <td>1.613572e+18</td>\n",
       "      <td>2.000000</td>\n",
       "    </tr>\n",
       "    <tr>\n",
       "      <th>75%</th>\n",
       "      <td>2.405531e+18</td>\n",
       "      <td>3.000000</td>\n",
       "    </tr>\n",
       "    <tr>\n",
       "      <th>max</th>\n",
       "      <td>3.348581e+18</td>\n",
       "      <td>5.000000</td>\n",
       "    </tr>\n",
       "  </tbody>\n",
       "</table>\n",
       "</div>"
      ],
      "text/plain": [
       "          SpecObjID     BPTClass\n",
       "count  8.015000e+03  8015.000000\n",
       "mean   1.681231e+18     2.342732\n",
       "std    8.362216e+17     1.464049\n",
       "min    2.995086e+17     1.000000\n",
       "25%    9.874787e+17     1.000000\n",
       "50%    1.613572e+18     2.000000\n",
       "75%    2.405531e+18     3.000000\n",
       "max    3.348581e+18     5.000000"
      ]
     },
     "execution_count": 69,
     "metadata": {},
     "output_type": "execute_result"
    }
   ],
   "source": [
    "df = df[df.BPTClass > 0]\n",
    "df.describe()"
   ]
  },
  {
   "cell_type": "code",
   "execution_count": 126,
   "metadata": {},
   "outputs": [
    {
     "data": {
      "text/html": [
       "<div>\n",
       "<style scoped>\n",
       "    .dataframe tbody tr th:only-of-type {\n",
       "        vertical-align: middle;\n",
       "    }\n",
       "\n",
       "    .dataframe tbody tr th {\n",
       "        vertical-align: top;\n",
       "    }\n",
       "\n",
       "    .dataframe thead th {\n",
       "        text-align: right;\n",
       "    }\n",
       "</style>\n",
       "<table border=\"1\" class=\"dataframe\">\n",
       "  <thead>\n",
       "    <tr style=\"text-align: right;\">\n",
       "      <th></th>\n",
       "      <th>SpecObjID</th>\n",
       "      <th>BPTClass</th>\n",
       "    </tr>\n",
       "    <tr>\n",
       "      <th>GalaxyID</th>\n",
       "      <th></th>\n",
       "      <th></th>\n",
       "    </tr>\n",
       "  </thead>\n",
       "  <tbody>\n",
       "    <tr>\n",
       "      <th>129195</th>\n",
       "      <td>588870424280983552</td>\n",
       "      <td>composite</td>\n",
       "    </tr>\n",
       "    <tr>\n",
       "      <th>866833</th>\n",
       "      <td>1631476571170695168</td>\n",
       "      <td>star-forming</td>\n",
       "    </tr>\n",
       "    <tr>\n",
       "      <th>118644</th>\n",
       "      <td>1818456220894259200</td>\n",
       "      <td>low-star-forming</td>\n",
       "    </tr>\n",
       "    <tr>\n",
       "      <th>981080</th>\n",
       "      <td>588914404746094592</td>\n",
       "      <td>composite</td>\n",
       "    </tr>\n",
       "    <tr>\n",
       "      <th>662778</th>\n",
       "      <td>2353280671859894272</td>\n",
       "      <td>star-forming</td>\n",
       "    </tr>\n",
       "  </tbody>\n",
       "</table>\n",
       "</div>"
      ],
      "text/plain": [
       "                    SpecObjID          BPTClass\n",
       "GalaxyID                                       \n",
       "129195     588870424280983552         composite\n",
       "866833    1631476571170695168      star-forming\n",
       "118644    1818456220894259200  low-star-forming\n",
       "981080     588914404746094592         composite\n",
       "662778    2353280671859894272      star-forming"
      ]
     },
     "execution_count": 126,
     "metadata": {},
     "output_type": "execute_result"
    }
   ],
   "source": [
    "bpt_dict = {\n",
    "    1: 'star-forming',\n",
    "    2: 'low-star-forming',\n",
    "    3: 'composite',\n",
    "    4: 'AGN',\n",
    "    5: 'LINER'\n",
    "}\n",
    "\n",
    "df.BPTClass = df.BPTClass.map(bpt_dict)\n",
    "df.head()"
   ]
  },
  {
   "cell_type": "code",
   "execution_count": 82,
   "metadata": {},
   "outputs": [],
   "source": [
    "df[['BPTClass']].to_csv(f'{PATH}bpt_class.csv', index=True)"
   ]
  },
  {
   "cell_type": "code",
   "execution_count": 73,
   "metadata": {},
   "outputs": [],
   "source": [
    "# save the BPT classified training set images\n",
    "for galaxy_id in df.index:\n",
    "    if os.path.exists(f'{PATH}images_training_rev1/{galaxy_id}.jpg'):\n",
    "        shutil.copy(f'{PATH}images_training_rev1/{galaxy_id}.jpg', \n",
    "                    f'{PATH}bpt_training/{galaxy_id}.jpg')\n",
    "    else:\n",
    "        print(f'{galaxy_id}.jpg does not exist')"
   ]
  },
  {
   "cell_type": "markdown",
   "metadata": {},
   "source": [
    "## Making our own test set\n",
    "Obviously taking a simple cut in galaxy ID isn't the greatest idea, but the two samples look representative enough."
   ]
  },
  {
   "cell_type": "code",
   "execution_count": 74,
   "metadata": {},
   "outputs": [
    {
     "data": {
      "image/png": "[encoded data removed]",
      "text/plain": [
       "<matplotlib.figure.Figure at 0x20101dc4860>"
      ]
     },
     "metadata": {},
     "output_type": "display_data"
    }
   ],
   "source": [
    "plt.hist(df.index, bins=100);"
   ]
  },
  {
   "cell_type": "code",
   "execution_count": 76,
   "metadata": {},
   "outputs": [
    {
     "data": {
      "text/plain": [
       "<matplotlib.legend.Legend at 0x20101dc4b70>"
      ]
     },
     "execution_count": 76,
     "metadata": {},
     "output_type": "execute_result"
    },
    {
     "data": {
      "image/png": "[encoded data removed]",
      "text/plain": [
       "<matplotlib.figure.Figure at 0x20101dc4908>"
      ]
     },
     "metadata": {},
     "output_type": "display_data"
    }
   ],
   "source": [
    "plt.hist(df[df.index < 800000].BPTClass, bins=6, color='C3', label='train')\n",
    "plt.hist(df[df.index > 800000].BPTClass, bins=6, color='C0', label='test')\n",
    "plt.legend()"
   ]
  },
  {
   "cell_type": "code",
   "execution_count": 84,
   "metadata": {},
   "outputs": [],
   "source": [
    "# above this number, use data for testing\n",
    "test_number_cutoff = 800000\n",
    "\n",
    "for galaxy_id in df.index:\n",
    "    if os.path.exists(f'{PATH}bpt_training/{galaxy_id}.jpg') and galaxy_id > test_number_cutoff:\n",
    "        shutil.move(f'{PATH}bpt_training/{galaxy_id}.jpg', \n",
    "                    f'{PATH}bpt_testing/{galaxy_id}.jpg')\n",
    "\n",
    "        \n",
    "where_train = df.index < test_number_cutoff\n",
    "# save two more csv files\n",
    "df[['BPTClass']][where_train].to_csv(f'{PATH}bpt_training.csv', index=True)\n",
    "df[['BPTClass']][~where_train].to_csv(f'{PATH}bpt_testing.csv', index=True)"
   ]
  },
  {
   "cell_type": "markdown",
   "metadata": {},
   "source": [
    "# Load data into fastai"
   ]
  },
  {
   "cell_type": "code",
   "execution_count": 85,
   "metadata": {},
   "outputs": [
    {
     "name": "stdout",
     "output_type": "stream",
     "text": [
      "6214 training and crossval examples\n"
     ]
    }
   ],
   "source": [
    "# load in data with transforms\n",
    "arch = resnet34\n",
    "sz = 96\n",
    "bs = 12\n",
    "n = len(list(open(f'{PATH}bpt_training.csv'))) - 1\n",
    "print(f'{n} training and crossval examples')\n",
    "val_idxs = get_cv_idxs(n)\n",
    "\n",
    "tfms = tfms_from_model(arch, sz, aug_tfms=transforms_top_down, max_zoom=1.1)\n",
    "data = ImageClassifierData.from_csv(PATH, 'bpt_training', f'{PATH}bpt_training.csv', \n",
    "                                    test_name='bpt_testing', val_idxs=val_idxs, suffix='.jpg', tfms=tfms, bs=bs)\n"
   ]
  },
  {
   "cell_type": "code",
   "execution_count": 86,
   "metadata": {},
   "outputs": [
    {
     "data": {
      "text/plain": [
       "['AGN', 'LINER', 'composite', 'low-star-forming', 'star-forming']"
      ]
     },
     "execution_count": 86,
     "metadata": {},
     "output_type": "execute_result"
    }
   ],
   "source": [
    "data.classes"
   ]
  },
  {
   "cell_type": "markdown",
   "metadata": {},
   "source": [
    "## Example galaxy"
   ]
  },
  {
   "cell_type": "code",
   "execution_count": 87,
   "metadata": {},
   "outputs": [
    {
     "data": {
      "text/plain": [
       "'data/galaxy-zoo-2/bpt_training\\\\100053.jpg'"
      ]
     },
     "execution_count": 87,
     "metadata": {},
     "output_type": "execute_result"
    }
   ],
   "source": [
    "fn = PATH + data.trn_ds.fnames[0]; fn"
   ]
  },
  {
   "cell_type": "code",
   "execution_count": 88,
   "metadata": {},
   "outputs": [
    {
     "data": {
      "image/png": "[encoded data removed]",
      "text/plain": [
       "<PIL.JpegImagePlugin.JpegImageFile image mode=RGB size=424x424 at 0x20124614BA8>"
      ]
     },
     "execution_count": 88,
     "metadata": {},
     "output_type": "execute_result"
    }
   ],
   "source": [
    "img = PIL.Image.open(fn); img\n"
   ]
  },
  {
   "cell_type": "code",
   "execution_count": 89,
   "metadata": {},
   "outputs": [
    {
     "data": {
      "text/plain": [
       "'composite'"
      ]
     },
     "execution_count": 89,
     "metadata": {},
     "output_type": "execute_result"
    }
   ],
   "source": [
    "df['BPTClass'].iloc[0]"
   ]
  },
  {
   "cell_type": "code",
   "execution_count": 90,
   "metadata": {},
   "outputs": [
    {
     "data": {
      "text/plain": [
       "(424, 424)"
      ]
     },
     "execution_count": 90,
     "metadata": {},
     "output_type": "execute_result"
    }
   ],
   "source": [
    "img.size"
   ]
  },
  {
   "cell_type": "markdown",
   "metadata": {
    "hidden": true
   },
   "source": [
    "## An initial model"
   ]
  },
  {
   "cell_type": "code",
   "execution_count": 56,
   "metadata": {},
   "outputs": [],
   "source": [
    "# first use the correct data labels\n"
   ]
  },
  {
   "cell_type": "code",
   "execution_count": 91,
   "metadata": {},
   "outputs": [],
   "source": [
    "def get_data(sz, bs):\n",
    "    tfms = tfms_from_model(arch, sz, aug_tfms=transforms_top_down, max_zoom=1.2)\n",
    "    data = ImageClassifierData.from_csv(PATH, 'bpt_training', f'{PATH}bpt_training.csv', \n",
    "                                        test_name='bpt_testing', val_idxs=val_idxs, suffix='.jpg', tfms=tfms, bs=bs)\n",
    "\n",
    "    return data if sz > 200 else data.resize(224, 'tmp')"
   ]
  },
  {
   "cell_type": "code",
   "execution_count": 92,
   "metadata": {
    "hidden": true,
    "scrolled": false
   },
   "outputs": [
    {
     "data": {
      "application/vnd.jupyter.widget-view+json": {
       "model_id": "67be002fdc0e4f2e970ce3f3dab90375",
       "version_major": 2,
       "version_minor": 0
      },
      "text/html": [
       "<p>Failed to display Jupyter Widget of type <code>HBox</code>.</p>\n",
       "<p>\n",
       "  If you're reading this message in the Jupyter Notebook or JupyterLab Notebook, it may mean\n",
       "  that the widgets JavaScript is still loading. If this message persists, it\n",
       "  likely means that the widgets JavaScript library is either not installed or\n",
       "  not enabled. See the <a href=\"https://ipywidgets.readthedocs.io/en/stable/user_install.html\">Jupyter\n",
       "  Widgets Documentation</a> for setup instructions.\n",
       "</p>\n",
       "<p>\n",
       "  If you're reading this message in another frontend (for example, a static\n",
       "  rendering on GitHub or <a href=\"https://nbviewer.jupyter.org/\">NBViewer</a>),\n",
       "  it may mean that your frontend doesn't currently support widgets.\n",
       "</p>\n"
      ],
      "text/plain": [
       "HBox(children=(IntProgress(value=0, max=6), HTML(value='')))"
      ]
     },
     "metadata": {},
     "output_type": "display_data"
    },
    {
     "name": "stdout",
     "output_type": "stream",
     "text": [
      "                                                    \n"
     ]
    }
   ],
   "source": [
    "# precompute\n",
    "data = get_data(sz,bs)"
   ]
  },
  {
   "cell_type": "code",
   "execution_count": 93,
   "metadata": {
    "hidden": true
   },
   "outputs": [
    {
     "name": "stdout",
     "output_type": "stream",
     "text": [
      "100%|██████████| 415/415 [01:30<00:00,  4.60it/s]\n",
      "100%|██████████| 104/104 [00:22<00:00,  4.69it/s]\n",
      "100%|██████████| 151/151 [00:32<00:00,  4.59it/s]\n"
     ]
    }
   ],
   "source": [
    "learn = ConvLearner.pretrained(arch, data, precompute=True, ps=0.5)"
   ]
  },
  {
   "cell_type": "markdown",
   "metadata": {},
   "source": [
    "I expect to unfreeze and re-train all the layers simply because the abstractions for identifying galaxies will be different than for identifying cats or whatever. Perhaps I'll change the learning rate by 1/3 and 1/9 in the earlier and earliest layers respectively."
   ]
  },
  {
   "cell_type": "code",
   "execution_count": 96,
   "metadata": {},
   "outputs": [],
   "source": [
    "learn.save(f'{sz}_init')"
   ]
  },
  {
   "cell_type": "markdown",
   "metadata": {
    "heading_collapsed": true
   },
   "source": [
    "## Choosing a learning rate"
   ]
  },
  {
   "cell_type": "code",
   "execution_count": 94,
   "metadata": {
    "hidden": true,
    "scrolled": false
   },
   "outputs": [
    {
     "data": {
      "application/vnd.jupyter.widget-view+json": {
       "model_id": "bf8cd609b4044406ac1dc1b51f07689f",
       "version_major": 2,
       "version_minor": 0
      },
      "text/html": [
       "<p>Failed to display Jupyter Widget of type <code>HBox</code>.</p>\n",
       "<p>\n",
       "  If you're reading this message in the Jupyter Notebook or JupyterLab Notebook, it may mean\n",
       "  that the widgets JavaScript is still loading. If this message persists, it\n",
       "  likely means that the widgets JavaScript library is either not installed or\n",
       "  not enabled. See the <a href=\"https://ipywidgets.readthedocs.io/en/stable/user_install.html\">Jupyter\n",
       "  Widgets Documentation</a> for setup instructions.\n",
       "</p>\n",
       "<p>\n",
       "  If you're reading this message in another frontend (for example, a static\n",
       "  rendering on GitHub or <a href=\"https://nbviewer.jupyter.org/\">NBViewer</a>),\n",
       "  it may mean that your frontend doesn't currently support widgets.\n",
       "</p>\n"
      ],
      "text/plain": [
       "HBox(children=(IntProgress(value=0, description='Epoch', max=1), HTML(value='')))"
      ]
     },
     "metadata": {},
     "output_type": "display_data"
    },
    {
     "name": "stdout",
     "output_type": "stream",
     "text": [
      " 70%|███████   | 291/415 [00:02<00:00, 143.68it/s, loss=8.41]\n",
      "                                                             \r"
     ]
    }
   ],
   "source": [
    "lrf=learn.lr_find()"
   ]
  },
  {
   "cell_type": "code",
   "execution_count": 111,
   "metadata": {
    "hidden": true
   },
   "outputs": [
    {
     "data": {
      "image/png": "[encoded data removed]",
      "text/plain": [
       "<matplotlib.figure.Figure at 0x201032f7358>"
      ]
     },
     "metadata": {},
     "output_type": "display_data"
    }
   ],
   "source": [
    "learn.sched.plot()"
   ]
  },
  {
   "cell_type": "markdown",
   "metadata": {},
   "source": [
    "$10^{-2}$ again..."
   ]
  },
  {
   "cell_type": "markdown",
   "metadata": {},
   "source": [
    "# Training starting from smaller images"
   ]
  },
  {
   "cell_type": "markdown",
   "metadata": {},
   "source": [
    "### Set `precompute=False` to retrain earlier layers"
   ]
  },
  {
   "cell_type": "code",
   "execution_count": 97,
   "metadata": {},
   "outputs": [
    {
     "data": {
      "application/vnd.jupyter.widget-view+json": {
       "model_id": "98c5456a3af64a7f860dd70bf822171c",
       "version_major": 2,
       "version_minor": 0
      },
      "text/html": [
       "<p>Failed to display Jupyter Widget of type <code>HBox</code>.</p>\n",
       "<p>\n",
       "  If you're reading this message in the Jupyter Notebook or JupyterLab Notebook, it may mean\n",
       "  that the widgets JavaScript is still loading. If this message persists, it\n",
       "  likely means that the widgets JavaScript library is either not installed or\n",
       "  not enabled. See the <a href=\"https://ipywidgets.readthedocs.io/en/stable/user_install.html\">Jupyter\n",
       "  Widgets Documentation</a> for setup instructions.\n",
       "</p>\n",
       "<p>\n",
       "  If you're reading this message in another frontend (for example, a static\n",
       "  rendering on GitHub or <a href=\"https://nbviewer.jupyter.org/\">NBViewer</a>),\n",
       "  it may mean that your frontend doesn't currently support widgets.\n",
       "</p>\n"
      ],
      "text/plain": [
       "HBox(children=(IntProgress(value=0, max=6), HTML(value='')))"
      ]
     },
     "metadata": {},
     "output_type": "display_data"
    },
    {
     "name": "stdout",
     "output_type": "stream",
     "text": [
      "\n"
     ]
    },
    {
     "data": {
      "application/vnd.jupyter.widget-view+json": {
       "model_id": "e9b76634633441199ac4cfaa51ce381a",
       "version_major": 2,
       "version_minor": 0
      },
      "text/html": [
       "<p>Failed to display Jupyter Widget of type <code>HBox</code>.</p>\n",
       "<p>\n",
       "  If you're reading this message in the Jupyter Notebook or JupyterLab Notebook, it may mean\n",
       "  that the widgets JavaScript is still loading. If this message persists, it\n",
       "  likely means that the widgets JavaScript library is either not installed or\n",
       "  not enabled. See the <a href=\"https://ipywidgets.readthedocs.io/en/stable/user_install.html\">Jupyter\n",
       "  Widgets Documentation</a> for setup instructions.\n",
       "</p>\n",
       "<p>\n",
       "  If you're reading this message in another frontend (for example, a static\n",
       "  rendering on GitHub or <a href=\"https://nbviewer.jupyter.org/\">NBViewer</a>),\n",
       "  it may mean that your frontend doesn't currently support widgets.\n",
       "</p>\n"
      ],
      "text/plain": [
       "HBox(children=(IntProgress(value=0, description='Epoch', max=5), HTML(value='')))"
      ]
     },
     "metadata": {},
     "output_type": "display_data"
    },
    {
     "name": "stdout",
     "output_type": "stream",
     "text": [
      "epoch      trn_loss   val_loss   accuracy                   \n",
      "    0      1.667138   1.462438   0.41868   \n",
      "    1      1.613505   1.4535     0.42029                    \n",
      "    2      1.586359   1.439941   0.4219                     \n",
      "    3      1.582344   1.44899    0.427536                   \n",
      "    4      1.527991   1.430015   0.431562                   \n",
      "\n"
     ]
    },
    {
     "data": {
      "text/plain": [
       "[array([1.43002]), 0.43156199524368066]"
      ]
     },
     "execution_count": 97,
     "metadata": {},
     "output_type": "execute_result"
    }
   ],
   "source": [
    "learn = ConvLearner.pretrained(arch, get_data(96, bs), precompute=False, ps=0.5)\n",
    "learn.fit(1e-2, 5, cycle_len=1)"
   ]
  },
  {
   "cell_type": "code",
   "execution_count": 98,
   "metadata": {},
   "outputs": [],
   "source": [
    "learn.save('96_pretrained')"
   ]
  },
  {
   "cell_type": "code",
   "execution_count": 99,
   "metadata": {},
   "outputs": [
    {
     "data": {
      "application/vnd.jupyter.widget-view+json": {
       "model_id": "1759b298a2d44090b468d895b0d3b4a1",
       "version_major": 2,
       "version_minor": 0
      },
      "text/html": [
       "<p>Failed to display Jupyter Widget of type <code>HBox</code>.</p>\n",
       "<p>\n",
       "  If you're reading this message in the Jupyter Notebook or JupyterLab Notebook, it may mean\n",
       "  that the widgets JavaScript is still loading. If this message persists, it\n",
       "  likely means that the widgets JavaScript library is either not installed or\n",
       "  not enabled. See the <a href=\"https://ipywidgets.readthedocs.io/en/stable/user_install.html\">Jupyter\n",
       "  Widgets Documentation</a> for setup instructions.\n",
       "</p>\n",
       "<p>\n",
       "  If you're reading this message in another frontend (for example, a static\n",
       "  rendering on GitHub or <a href=\"https://nbviewer.jupyter.org/\">NBViewer</a>),\n",
       "  it may mean that your frontend doesn't currently support widgets.\n",
       "</p>\n"
      ],
      "text/plain": [
       "HBox(children=(IntProgress(value=0, max=6), HTML(value='')))"
      ]
     },
     "metadata": {},
     "output_type": "display_data"
    },
    {
     "name": "stdout",
     "output_type": "stream",
     "text": [
      "\n"
     ]
    },
    {
     "data": {
      "application/vnd.jupyter.widget-view+json": {
       "model_id": "f671368aae5f4ad3b959119bcf995982",
       "version_major": 2,
       "version_minor": 0
      },
      "text/html": [
       "<p>Failed to display Jupyter Widget of type <code>HBox</code>.</p>\n",
       "<p>\n",
       "  If you're reading this message in the Jupyter Notebook or JupyterLab Notebook, it may mean\n",
       "  that the widgets JavaScript is still loading. If this message persists, it\n",
       "  likely means that the widgets JavaScript library is either not installed or\n",
       "  not enabled. See the <a href=\"https://ipywidgets.readthedocs.io/en/stable/user_install.html\">Jupyter\n",
       "  Widgets Documentation</a> for setup instructions.\n",
       "</p>\n",
       "<p>\n",
       "  If you're reading this message in another frontend (for example, a static\n",
       "  rendering on GitHub or <a href=\"https://nbviewer.jupyter.org/\">NBViewer</a>),\n",
       "  it may mean that your frontend doesn't currently support widgets.\n",
       "</p>\n"
      ],
      "text/plain": [
       "HBox(children=(IntProgress(value=0, description='Epoch', max=3), HTML(value='')))"
      ]
     },
     "metadata": {},
     "output_type": "display_data"
    },
    {
     "name": "stdout",
     "output_type": "stream",
     "text": [
      "epoch      trn_loss   val_loss   accuracy                   \n",
      "    0      1.551936   1.42722    0.430757  \n",
      "    1      1.553749   1.435826   0.432367                   \n",
      "    2      1.502598   1.426199   0.429147                   \n",
      "\n"
     ]
    },
    {
     "data": {
      "application/vnd.jupyter.widget-view+json": {
       "model_id": "8da92745dabb430cafb9419b2586d244",
       "version_major": 2,
       "version_minor": 0
      },
      "text/html": [
       "<p>Failed to display Jupyter Widget of type <code>HBox</code>.</p>\n",
       "<p>\n",
       "  If you're reading this message in the Jupyter Notebook or JupyterLab Notebook, it may mean\n",
       "  that the widgets JavaScript is still loading. If this message persists, it\n",
       "  likely means that the widgets JavaScript library is either not installed or\n",
       "  not enabled. See the <a href=\"https://ipywidgets.readthedocs.io/en/stable/user_install.html\">Jupyter\n",
       "  Widgets Documentation</a> for setup instructions.\n",
       "</p>\n",
       "<p>\n",
       "  If you're reading this message in another frontend (for example, a static\n",
       "  rendering on GitHub or <a href=\"https://nbviewer.jupyter.org/\">NBViewer</a>),\n",
       "  it may mean that your frontend doesn't currently support widgets.\n",
       "</p>\n"
      ],
      "text/plain": [
       "HBox(children=(IntProgress(value=0, description='Epoch', max=7), HTML(value='')))"
      ]
     },
     "metadata": {},
     "output_type": "display_data"
    },
    {
     "name": "stdout",
     "output_type": "stream",
     "text": [
      "epoch      trn_loss   val_loss   accuracy                   \n",
      "    0      1.483982   1.417521   0.430757  \n",
      "    1      1.46741    1.41964    0.431562                   \n",
      "    2      1.466388   1.415654   0.432367                   \n",
      "    3      1.445329   1.428132   0.433172                   \n",
      "    4      1.447972   1.413995   0.433172                   \n",
      "    5      1.455946   1.413357   0.433172                   \n",
      "    6      1.440262   1.414641   0.433172                   \n",
      "\n"
     ]
    },
    {
     "data": {
      "text/plain": [
       "[array([1.41464]), 0.4331723027375201]"
      ]
     },
     "execution_count": 99,
     "metadata": {},
     "output_type": "execute_result"
    }
   ],
   "source": [
    "learn.set_data(get_data(131, 8))\n",
    "learn.fit(1e-2,3,cycle_len=1)\n",
    "learn.fit(1e-2,3, cycle_len=1, cycle_mult=2)"
   ]
  },
  {
   "cell_type": "code",
   "execution_count": 100,
   "metadata": {},
   "outputs": [],
   "source": [
    "learn.save('96-131_all')"
   ]
  },
  {
   "cell_type": "markdown",
   "metadata": {},
   "source": [
    "## Scoring \n",
    "Note that we're using test-time augmentation"
   ]
  },
  {
   "cell_type": "code",
   "execution_count": 129,
   "metadata": {},
   "outputs": [
    {
     "name": "stdout",
     "output_type": "stream",
     "text": [
      "                                             \r"
     ]
    }
   ],
   "source": [
    "log_preds,y = learn.TTA()\n",
    "probs = np.mean(np.exp(log_preds), axis=0)"
   ]
  },
  {
   "cell_type": "code",
   "execution_count": 103,
   "metadata": {},
   "outputs": [
    {
     "data": {
      "text/plain": [
       "0.4331723027375201"
      ]
     },
     "execution_count": 103,
     "metadata": {},
     "output_type": "execute_result"
    }
   ],
   "source": [
    "accuracy_np(probs, y)"
   ]
  },
  {
   "cell_type": "code",
   "execution_count": 125,
   "metadata": {},
   "outputs": [
    {
     "name": "stdout",
     "output_type": "stream",
     "text": [
      "4\n"
     ]
    },
    {
     "data": {
      "image/png": "[encoded data removed]",
      "text/plain": [
       "<PIL.JpegImagePlugin.JpegImageFile image mode=RGB size=424x424 at 0x201032195C0>"
      ]
     },
     "execution_count": 125,
     "metadata": {},
     "output_type": "execute_result"
    }
   ],
   "source": [
    "fname = PATH + learn.data.val_ds.fnames[0]\n",
    "print(learn.data.val_y[0])\n",
    "img = PIL.Image.open(fname); img"
   ]
  },
  {
   "cell_type": "markdown",
   "metadata": {},
   "source": [
    "### Confusion matrix"
   ]
  },
  {
   "cell_type": "code",
   "execution_count": 104,
   "metadata": {
    "hidden": true
   },
   "outputs": [],
   "source": [
    "preds = np.argmax(probs, axis=1)\n",
    "probs = probs[:,1]"
   ]
  },
  {
   "cell_type": "code",
   "execution_count": 105,
   "metadata": {},
   "outputs": [],
   "source": [
    "from sklearn.metrics import confusion_matrix\n",
    "cm = confusion_matrix(y, preds)"
   ]
  },
  {
   "cell_type": "code",
   "execution_count": 112,
   "metadata": {},
   "outputs": [
    {
     "data": {
      "text/plain": [
       "<matplotlib.image.AxesImage at 0x20103272588>"
      ]
     },
     "execution_count": 112,
     "metadata": {},
     "output_type": "execute_result"
    },
    {
     "data": {
      "image/png": "[encoded data removed]",
      "text/plain": [
       "<matplotlib.figure.Figure at 0x2010324b240>"
      ]
     },
     "metadata": {},
     "output_type": "display_data"
    }
   ],
   "source": [
    "plt.figure(figsize=(6, 6))\n",
    "plt.imshow(cm, cmap='Blues')"
   ]
  },
  {
   "cell_type": "markdown",
   "metadata": {},
   "source": [
    "Well there's our problem. Why is it only predicting class 4?"
   ]
  },
  {
   "cell_type": "markdown",
   "metadata": {},
   "source": [
    "# Debugging time\n",
    "I'm going to have it train on only a ~~single class~~ two classes, each with a few hundred examples."
   ]
  },
  {
   "cell_type": "code",
   "execution_count": 155,
   "metadata": {},
   "outputs": [],
   "source": [
    "bs = 8\n",
    "sz = 96\n",
    "arch = resnet34\n",
    "\n",
    "n_examples = len(list(open(f'{PATH}bpt_debug.csv'))) - 1\n",
    "val_idxs = get_cv_idxs(n_examples)\n",
    "\n",
    "tfms = tfms_from_model(arch, sz, aug_tfms=transforms_top_down, max_zoom=1.2)\n",
    "data = ImageClassifierData.from_csv(PATH, 'bpt_training', f'{PATH}bpt_debug.csv', \n",
    "                                    test_name='bpt_testing', val_idxs=val_idxs, suffix='.jpg', tfms=tfms, \n",
    "                                    bs=bs, num_workers=4)"
   ]
  },
  {
   "cell_type": "code",
   "execution_count": 156,
   "metadata": {},
   "outputs": [],
   "source": [
    "learn = ConvLearner.pretrained(arch, data, precompute=False)"
   ]
  },
  {
   "cell_type": "code",
   "execution_count": 157,
   "metadata": {},
   "outputs": [
    {
     "data": {
      "application/vnd.jupyter.widget-view+json": {
       "model_id": "70efce329c09487eaf537b3ffed49205",
       "version_major": 2,
       "version_minor": 0
      },
      "text/html": [
       "<p>Failed to display Jupyter Widget of type <code>HBox</code>.</p>\n",
       "<p>\n",
       "  If you're reading this message in the Jupyter Notebook or JupyterLab Notebook, it may mean\n",
       "  that the widgets JavaScript is still loading. If this message persists, it\n",
       "  likely means that the widgets JavaScript library is either not installed or\n",
       "  not enabled. See the <a href=\"https://ipywidgets.readthedocs.io/en/stable/user_install.html\">Jupyter\n",
       "  Widgets Documentation</a> for setup instructions.\n",
       "</p>\n",
       "<p>\n",
       "  If you're reading this message in another frontend (for example, a static\n",
       "  rendering on GitHub or <a href=\"https://nbviewer.jupyter.org/\">NBViewer</a>),\n",
       "  it may mean that your frontend doesn't currently support widgets.\n",
       "</p>\n"
      ],
      "text/plain": [
       "HBox(children=(IntProgress(value=0, description='Epoch', max=2), HTML(value='')))"
      ]
     },
     "metadata": {},
     "output_type": "display_data"
    },
    {
     "name": "stdout",
     "output_type": "stream",
     "text": [
      "epoch      trn_loss   val_loss   accuracy                   \n",
      "    0      1.639796   1.332792   0.501441  \n",
      "    1      1.533167   1.136712   0.504323                   \n",
      "\n"
     ]
    },
    {
     "data": {
      "text/plain": [
       "[array([1.13671]), 0.5043227667423765]"
      ]
     },
     "execution_count": 157,
     "metadata": {},
     "output_type": "execute_result"
    }
   ],
   "source": [
    "learn.fit(1e-2, 2)"
   ]
  },
  {
   "cell_type": "code",
   "execution_count": 166,
   "metadata": {},
   "outputs": [
    {
     "name": "stdout",
     "output_type": "stream",
     "text": [
      "[0 0 0 0 1 1 1 0 1 1 1 0 1 0 1 1 0 1 1 0 1 0 0 0 0 0 1 0 0 0 1 0 0 0 1 0 0 0 1 0 0 0 0 1 0 1 1 0 0 0 0 0 0 0\n",
      " 0 1 0 0 1 0 1 1 1 1 1 1 1 0 1 0 0 1 0 0 1 1 0 0 0 1 0 1 1 1 0 0 0 1 1 1 0 0 1 0 0 1 1 0 0 1 0 0 1 0 0 0 0 1\n",
      " 0 1 0 1 1 0 1 1 0 1 0 0 0 0 1 1 0 0 0 0 0 1 0 0 0 0 1 1 0 0 0 0 0 0 0 0 0 1 0 0 0 0 1 1 0 0 0 1 0 0 0 1 0 1\n",
      " 0 0 0 1 1 1 0 0 1 1 1 1 0 1 0 1 1 0 0 1 1 0 1 1 0 0 0 1 0 1 0 1 1 0 0 0 0 0 0 1 0 0 0 0 0 1 0 0 0 0 0 0 0 0\n",
      " 1 0 1 0 0 0 0 0 1 0 0 1 0 1 1 0 1 1 1 0 0 0 1 1 0 1 0 0 0 0 0 0 0 1 1 0 1 1 0 0 1 0 1 0 0 0 0 1 0 1 0 1 1 0\n",
      " 0 1 1 1 1 0 0 1 0 0 1 0 1 1 0 1 0 0 0 0 1 1 0 0 0 0 1 1 1 0 0 0 0 0 0 0 0 0 0 0 0 0 0 1 1 1 1 1 1 0 0 0 1 0\n",
      " 0 1 0 1 0 1 0 1 0 0 0 1 0 1 0 0 1 0 0 0 1 0 1]\n"
     ]
    }
   ],
   "source": [
    "log_preds,y = learn.TTA()\n",
    "probs = np.mean(np.exp(log_preds), axis=0)\n",
    "\n",
    "preds = np.argmax(probs, axis=1)\n",
    "print(preds)"
   ]
  },
  {
   "cell_type": "code",
   "execution_count": 169,
   "metadata": {},
   "outputs": [
    {
     "data": {
      "text/plain": [
       "<matplotlib.image.AxesImage at 0x201213fbba8>"
      ]
     },
     "execution_count": 169,
     "metadata": {},
     "output_type": "execute_result"
    },
    {
     "data": {
      "image/png": "[encoded data removed]",
      "text/plain": [
       "<matplotlib.figure.Figure at 0x20120ff46a0>"
      ]
     },
     "metadata": {},
     "output_type": "display_data"
    }
   ],
   "source": [
    "cm = confusion_matrix(y, preds)\n",
    "plt.imshow(cm, cmap='Blues')"
   ]
  },
  {
   "cell_type": "code",
   "execution_count": 154,
   "metadata": {},
   "outputs": [
    {
     "name": "stdout",
     "output_type": "stream",
     "text": [
      "0\n"
     ]
    },
    {
     "data": {
      "image/png": "[encoded data removed]",
      "text/plain": [
       "<PIL.JpegImagePlugin.JpegImageFile image mode=RGB size=424x424 at 0x20120733630>"
      ]
     },
     "execution_count": 154,
     "metadata": {},
     "output_type": "execute_result"
    }
   ],
   "source": [
    "fname = PATH + learn.data.val_ds.fnames[12]\n",
    "print(learn.data.val_y[12])\n",
    "img = PIL.Image.open(fname); img"
   ]
  },
  {
   "cell_type": "markdown",
   "metadata": {},
   "source": [
    "### What is going on? It's never getting class 1 (in this case, LINERs) correct"
   ]
  },
  {
   "cell_type": "code",
   "execution_count": 170,
   "metadata": {},
   "outputs": [
    {
     "data": {
      "application/vnd.jupyter.widget-view+json": {
       "model_id": "2962b354d2a24489b0aada9aa0ba3373",
       "version_major": 2,
       "version_minor": 0
      },
      "text/html": [
       "<p>Failed to display Jupyter Widget of type <code>HBox</code>.</p>\n",
       "<p>\n",
       "  If you're reading this message in the Jupyter Notebook or JupyterLab Notebook, it may mean\n",
       "  that the widgets JavaScript is still loading. If this message persists, it\n",
       "  likely means that the widgets JavaScript library is either not installed or\n",
       "  not enabled. See the <a href=\"https://ipywidgets.readthedocs.io/en/stable/user_install.html\">Jupyter\n",
       "  Widgets Documentation</a> for setup instructions.\n",
       "</p>\n",
       "<p>\n",
       "  If you're reading this message in another frontend (for example, a static\n",
       "  rendering on GitHub or <a href=\"https://nbviewer.jupyter.org/\">NBViewer</a>),\n",
       "  it may mean that your frontend doesn't currently support widgets.\n",
       "</p>\n"
      ],
      "text/plain": [
       "HBox(children=(IntProgress(value=0, description='Epoch', max=7), HTML(value='')))"
      ]
     },
     "metadata": {},
     "output_type": "display_data"
    },
    {
     "name": "stdout",
     "output_type": "stream",
     "text": [
      "epoch      trn_loss   val_loss   accuracy                    \n",
      "    0      0.936693   0.746728   0.585014  \n",
      "    1      1.003878   0.758808   0.512968                    \n",
      "    2      0.820003   0.712136   0.564841                    \n",
      "    3      0.937985   0.819309   0.510086                    \n",
      "    4      0.837506   0.763586   0.541787                    \n",
      "    5      0.754824   0.695321   0.544669                    \n",
      "    6      0.725318   0.700372   0.564841                    \n",
      "\n"
     ]
    },
    {
     "data": {
      "text/plain": [
       "[array([0.70037]), 0.5648414986449635]"
      ]
     },
     "execution_count": 170,
     "metadata": {},
     "output_type": "execute_result"
    }
   ],
   "source": [
    "# needs more training?\n",
    "learn.fit(1e-2,3, cycle_len=1, cycle_mult=2)"
   ]
  },
  {
   "cell_type": "markdown",
   "metadata": {},
   "source": [
    "#### Loss is decreasing, but the accuracy isn't really getting any better."
   ]
  },
  {
   "cell_type": "code",
   "execution_count": 171,
   "metadata": {},
   "outputs": [
    {
     "data": {
      "image/png": "[encoded data removed]",
      "text/plain": [
       "<matplotlib.figure.Figure at 0x20121349ef0>"
      ]
     },
     "metadata": {},
     "output_type": "display_data"
    }
   ],
   "source": [
    "learn.sched.plot_loss()"
   ]
  },
  {
   "cell_type": "code",
   "execution_count": 176,
   "metadata": {},
   "outputs": [
    {
     "data": {
      "application/vnd.jupyter.widget-view+json": {
       "model_id": "aaf3525ae2cd4ec4bd94757de384cd11",
       "version_major": 2,
       "version_minor": 0
      },
      "text/html": [
       "<p>Failed to display Jupyter Widget of type <code>HBox</code>.</p>\n",
       "<p>\n",
       "  If you're reading this message in the Jupyter Notebook or JupyterLab Notebook, it may mean\n",
       "  that the widgets JavaScript is still loading. If this message persists, it\n",
       "  likely means that the widgets JavaScript library is either not installed or\n",
       "  not enabled. See the <a href=\"https://ipywidgets.readthedocs.io/en/stable/user_install.html\">Jupyter\n",
       "  Widgets Documentation</a> for setup instructions.\n",
       "</p>\n",
       "<p>\n",
       "  If you're reading this message in another frontend (for example, a static\n",
       "  rendering on GitHub or <a href=\"https://nbviewer.jupyter.org/\">NBViewer</a>),\n",
       "  it may mean that your frontend doesn't currently support widgets.\n",
       "</p>\n"
      ],
      "text/plain": [
       "HBox(children=(IntProgress(value=0, description='Epoch', max=1), HTML(value='')))"
      ]
     },
     "metadata": {},
     "output_type": "display_data"
    },
    {
     "name": "stdout",
     "output_type": "stream",
     "text": [
      " 88%|████████▊ | 153/174 [00:05<00:00, 27.86it/s, loss=3.74] \n",
      "                                                            \r"
     ]
    }
   ],
   "source": [
    "# look for learning rate?\n",
    "lrf = learn.lr_find(start_lr=1e-10)"
   ]
  },
  {
   "cell_type": "code",
   "execution_count": 177,
   "metadata": {},
   "outputs": [
    {
     "data": {
      "image/png": "[encoded data removed]",
      "text/plain": [
       "<matplotlib.figure.Figure at 0x20121e3ad30>"
      ]
     },
     "metadata": {},
     "output_type": "display_data"
    }
   ],
   "source": [
    "learn.sched.plot()"
   ]
  },
  {
   "cell_type": "markdown",
   "metadata": {},
   "source": [
    "Oh wait what? Maybe the learning rate needs to be way lower?"
   ]
  },
  {
   "cell_type": "code",
   "execution_count": 178,
   "metadata": {},
   "outputs": [
    {
     "data": {
      "application/vnd.jupyter.widget-view+json": {
       "model_id": "896a0271e90d444f9420d28edabb9fb0",
       "version_major": 2,
       "version_minor": 0
      },
      "text/html": [
       "<p>Failed to display Jupyter Widget of type <code>HBox</code>.</p>\n",
       "<p>\n",
       "  If you're reading this message in the Jupyter Notebook or JupyterLab Notebook, it may mean\n",
       "  that the widgets JavaScript is still loading. If this message persists, it\n",
       "  likely means that the widgets JavaScript library is either not installed or\n",
       "  not enabled. See the <a href=\"https://ipywidgets.readthedocs.io/en/stable/user_install.html\">Jupyter\n",
       "  Widgets Documentation</a> for setup instructions.\n",
       "</p>\n",
       "<p>\n",
       "  If you're reading this message in another frontend (for example, a static\n",
       "  rendering on GitHub or <a href=\"https://nbviewer.jupyter.org/\">NBViewer</a>),\n",
       "  it may mean that your frontend doesn't currently support widgets.\n",
       "</p>\n"
      ],
      "text/plain": [
       "HBox(children=(IntProgress(value=0, description='Epoch', max=1), HTML(value='')))"
      ]
     },
     "metadata": {},
     "output_type": "display_data"
    },
    {
     "name": "stdout",
     "output_type": "stream",
     "text": [
      "epoch      trn_loss   val_loss   accuracy                    \n",
      "    0      0.769531   0.84749    0.478386  \n",
      "\n"
     ]
    }
   ],
   "source": [
    "lrf = learn.lr_find(start_lr=1e-15, end_lr=1e-1)"
   ]
  },
  {
   "cell_type": "code",
   "execution_count": 179,
   "metadata": {},
   "outputs": [
    {
     "data": {
      "image/png": "[encoded data removed]",
      "text/plain": [
       "<matplotlib.figure.Figure at 0x20122863748>"
      ]
     },
     "metadata": {},
     "output_type": "display_data"
    }
   ],
   "source": [
    "learn.sched.plot()"
   ]
  },
  {
   "cell_type": "markdown",
   "metadata": {},
   "source": [
    "### Ah it turns out that with small batch sizes, we sometimes come across [local minima ](http://forums.fast.ai/t/what-should-my-learning-rate-be/8195/13?u=jwuphysics) in the learning rate finder"
   ]
  },
  {
   "cell_type": "code",
   "execution_count": 183,
   "metadata": {},
   "outputs": [],
   "source": [
    "bs = 32\n",
    "sz = 96\n",
    "arch = resnet34\n",
    "\n",
    "n_examples = len(list(open(f'{PATH}bpt_debug.csv'))) - 1\n",
    "val_idxs = get_cv_idxs(n_examples)\n",
    "\n",
    "tfms = tfms_from_model(arch, sz, aug_tfms=transforms_top_down, max_zoom=1.2)\n",
    "data = ImageClassifierData.from_csv(PATH, 'bpt_training', f'{PATH}bpt_debug.csv', \n",
    "                                    test_name='bpt_testing', val_idxs=val_idxs, suffix='.jpg', tfms=tfms, \n",
    "                                    bs=bs, num_workers=4)"
   ]
  },
  {
   "cell_type": "code",
   "execution_count": 184,
   "metadata": {},
   "outputs": [
    {
     "data": {
      "application/vnd.jupyter.widget-view+json": {
       "model_id": "8b9b4c9e149c4eb69a149262a1b87899",
       "version_major": 2,
       "version_minor": 0
      },
      "text/html": [
       "<p>Failed to display Jupyter Widget of type <code>HBox</code>.</p>\n",
       "<p>\n",
       "  If you're reading this message in the Jupyter Notebook or JupyterLab Notebook, it may mean\n",
       "  that the widgets JavaScript is still loading. If this message persists, it\n",
       "  likely means that the widgets JavaScript library is either not installed or\n",
       "  not enabled. See the <a href=\"https://ipywidgets.readthedocs.io/en/stable/user_install.html\">Jupyter\n",
       "  Widgets Documentation</a> for setup instructions.\n",
       "</p>\n",
       "<p>\n",
       "  If you're reading this message in another frontend (for example, a static\n",
       "  rendering on GitHub or <a href=\"https://nbviewer.jupyter.org/\">NBViewer</a>),\n",
       "  it may mean that your frontend doesn't currently support widgets.\n",
       "</p>\n"
      ],
      "text/plain": [
       "HBox(children=(IntProgress(value=0, description='Epoch', max=1), HTML(value='')))"
      ]
     },
     "metadata": {},
     "output_type": "display_data"
    },
    {
     "name": "stdout",
     "output_type": "stream",
     "text": [
      " 89%|████████▊ | 39/44 [00:04<00:00,  8.25it/s, loss=4.09] \n",
      "                                                          \r"
     ]
    }
   ],
   "source": [
    "learn = ConvLearner.pretrained(arch, data, precompute=False)\n",
    "lrf = learn.lr_find(start_lr=1e-6, end_lr=10)"
   ]
  },
  {
   "cell_type": "code",
   "execution_count": 185,
   "metadata": {},
   "outputs": [
    {
     "data": {
      "image/png": "[encoded data removed]",
      "text/plain": [
       "<matplotlib.figure.Figure at 0x2012284a9e8>"
      ]
     },
     "metadata": {},
     "output_type": "display_data"
    }
   ],
   "source": [
    "learn.sched.plot()"
   ]
  },
  {
   "cell_type": "markdown",
   "metadata": {},
   "source": [
    "That's strangely jagged, but let's try training this using 1e-3."
   ]
  },
  {
   "cell_type": "code",
   "execution_count": 186,
   "metadata": {},
   "outputs": [
    {
     "data": {
      "application/vnd.jupyter.widget-view+json": {
       "model_id": "095c7720d0784e8fa7b374d4e3c238c9",
       "version_major": 2,
       "version_minor": 0
      },
      "text/html": [
       "<p>Failed to display Jupyter Widget of type <code>HBox</code>.</p>\n",
       "<p>\n",
       "  If you're reading this message in the Jupyter Notebook or JupyterLab Notebook, it may mean\n",
       "  that the widgets JavaScript is still loading. If this message persists, it\n",
       "  likely means that the widgets JavaScript library is either not installed or\n",
       "  not enabled. See the <a href=\"https://ipywidgets.readthedocs.io/en/stable/user_install.html\">Jupyter\n",
       "  Widgets Documentation</a> for setup instructions.\n",
       "</p>\n",
       "<p>\n",
       "  If you're reading this message in another frontend (for example, a static\n",
       "  rendering on GitHub or <a href=\"https://nbviewer.jupyter.org/\">NBViewer</a>),\n",
       "  it may mean that your frontend doesn't currently support widgets.\n",
       "</p>\n"
      ],
      "text/plain": [
       "HBox(children=(IntProgress(value=0, description='Epoch', max=3), HTML(value='')))"
      ]
     },
     "metadata": {},
     "output_type": "display_data"
    },
    {
     "name": "stdout",
     "output_type": "stream",
     "text": [
      "epoch      trn_loss   val_loss   accuracy                  \n",
      "    0      0.889826   0.709218   0.51585   \n",
      "    1      0.843921   0.69872    0.567723                  \n",
      "    2      0.800352   0.679665   0.56196                   \n",
      "\n"
     ]
    },
    {
     "data": {
      "application/vnd.jupyter.widget-view+json": {
       "model_id": "8e2cbdddc8774d7d81bd0cc724d8ceaa",
       "version_major": 2,
       "version_minor": 0
      },
      "text/html": [
       "<p>Failed to display Jupyter Widget of type <code>HBox</code>.</p>\n",
       "<p>\n",
       "  If you're reading this message in the Jupyter Notebook or JupyterLab Notebook, it may mean\n",
       "  that the widgets JavaScript is still loading. If this message persists, it\n",
       "  likely means that the widgets JavaScript library is either not installed or\n",
       "  not enabled. See the <a href=\"https://ipywidgets.readthedocs.io/en/stable/user_install.html\">Jupyter\n",
       "  Widgets Documentation</a> for setup instructions.\n",
       "</p>\n",
       "<p>\n",
       "  If you're reading this message in another frontend (for example, a static\n",
       "  rendering on GitHub or <a href=\"https://nbviewer.jupyter.org/\">NBViewer</a>),\n",
       "  it may mean that your frontend doesn't currently support widgets.\n",
       "</p>\n"
      ],
      "text/plain": [
       "HBox(children=(IntProgress(value=0, description='Epoch', max=7), HTML(value='')))"
      ]
     },
     "metadata": {},
     "output_type": "display_data"
    },
    {
     "name": "stdout",
     "output_type": "stream",
     "text": [
      "epoch      trn_loss   val_loss   accuracy                  \n",
      "    0      0.77623    0.676224   0.559078  \n",
      "    1      0.778159   0.686375   0.570605                  \n",
      "    2      0.750219   0.685578   0.570605                  \n",
      "    3      0.742813   0.672955   0.564841                  \n",
      "    4      0.739721   0.680544   0.564842                  \n",
      "    5      0.724415   0.679737   0.576369                  \n",
      "    6      0.714885   0.679193   0.590778                  \n",
      "\n"
     ]
    },
    {
     "data": {
      "text/plain": [
       "[array([0.67919]), 0.5907781000439647]"
      ]
     },
     "execution_count": 186,
     "metadata": {},
     "output_type": "execute_result"
    }
   ],
   "source": [
    "learn.fit(1e-3, 3)\n",
    "learn.fit(1e-3, 3, cycle_len=1, cycle_mult=2)"
   ]
  },
  {
   "cell_type": "markdown",
   "metadata": {},
   "source": [
    "### Perhaps I need to retrain (unfreeze) the earlier layers? After all, resnet did not look for galaxies..."
   ]
  },
  {
   "cell_type": "code",
   "execution_count": 193,
   "metadata": {},
   "outputs": [
    {
     "name": "stdout",
     "output_type": "stream",
     "text": [
      "\n"
     ]
    },
    {
     "data": {
      "application/vnd.jupyter.widget-view+json": {
       "model_id": "7f2edf5e3b8d4351888745fca8d25878",
       "version_major": 2,
       "version_minor": 0
      },
      "text/html": [
       "<p>Failed to display Jupyter Widget of type <code>HBox</code>.</p>\n",
       "<p>\n",
       "  If you're reading this message in the Jupyter Notebook or JupyterLab Notebook, it may mean\n",
       "  that the widgets JavaScript is still loading. If this message persists, it\n",
       "  likely means that the widgets JavaScript library is either not installed or\n",
       "  not enabled. See the <a href=\"https://ipywidgets.readthedocs.io/en/stable/user_install.html\">Jupyter\n",
       "  Widgets Documentation</a> for setup instructions.\n",
       "</p>\n",
       "<p>\n",
       "  If you're reading this message in another frontend (for example, a static\n",
       "  rendering on GitHub or <a href=\"https://nbviewer.jupyter.org/\">NBViewer</a>),\n",
       "  it may mean that your frontend doesn't currently support widgets.\n",
       "</p>\n"
      ],
      "text/plain": [
       "HBox(children=(IntProgress(value=0, description='Epoch', max=7), HTML(value='')))"
      ]
     },
     "metadata": {},
     "output_type": "display_data"
    },
    {
     "name": "stdout",
     "output_type": "stream",
     "text": [
      "epoch      trn_loss   val_loss   accuracy                  \n",
      "    0      0.753272   0.692317   0.564842  \n",
      "    1      0.757481   0.68332    0.559078                  \n",
      "    2      0.74205    0.684715   0.570605                  \n",
      "    3      0.72143    0.674517   0.567723                  \n",
      "    4      0.718576   0.668939   0.59366                   \n",
      "    5      0.711248   0.66832    0.582133                  \n",
      "    6      0.708153   0.66692    0.587896                  \n",
      "\n"
     ]
    },
    {
     "data": {
      "text/plain": [
       "[array([0.66692]), 0.5878962556635612]"
      ]
     },
     "execution_count": 193,
     "metadata": {},
     "output_type": "execute_result"
    }
   ],
   "source": [
    "# train earlier layers??\n",
    "learn.unfreeze()\n",
    "lr = np.array([1/9, 1/3, 1]) * 1e-3\n",
    "learn.fit(lr, 3, cycle_len=1, cycle_mult=2)"
   ]
  },
  {
   "cell_type": "code",
   "execution_count": 194,
   "metadata": {},
   "outputs": [
    {
     "data": {
      "application/vnd.jupyter.widget-view+json": {
       "model_id": "81fe6233cb6349e9aa17d0c8155970b4",
       "version_major": 2,
       "version_minor": 0
      },
      "text/html": [
       "<p>Failed to display Jupyter Widget of type <code>HBox</code>.</p>\n",
       "<p>\n",
       "  If you're reading this message in the Jupyter Notebook or JupyterLab Notebook, it may mean\n",
       "  that the widgets JavaScript is still loading. If this message persists, it\n",
       "  likely means that the widgets JavaScript library is either not installed or\n",
       "  not enabled. See the <a href=\"https://ipywidgets.readthedocs.io/en/stable/user_install.html\">Jupyter\n",
       "  Widgets Documentation</a> for setup instructions.\n",
       "</p>\n",
       "<p>\n",
       "  If you're reading this message in another frontend (for example, a static\n",
       "  rendering on GitHub or <a href=\"https://nbviewer.jupyter.org/\">NBViewer</a>),\n",
       "  it may mean that your frontend doesn't currently support widgets.\n",
       "</p>\n"
      ],
      "text/plain": [
       "HBox(children=(IntProgress(value=0, description='Epoch', max=7), HTML(value='')))"
      ]
     },
     "metadata": {},
     "output_type": "display_data"
    },
    {
     "name": "stdout",
     "output_type": "stream",
     "text": [
      "epoch      trn_loss   val_loss   accuracy                  \n",
      "    0      0.718287   0.668215   0.59366   \n",
      "    1      0.711248   0.667389   0.587896                  \n",
      "    2      0.711384   0.664873   0.608069                  \n",
      "    3      0.709535   0.666338   0.602305                  \n",
      "    4      0.710138   0.668374   0.587896                  \n",
      "    5      0.712312   0.669566   0.587896                  \n",
      "    6      0.698455   0.670193   0.587896                  \n",
      "\n"
     ]
    },
    {
     "data": {
      "text/plain": [
       "[array([0.67019]), 0.5878962556635612]"
      ]
     },
     "execution_count": 194,
     "metadata": {},
     "output_type": "execute_result"
    }
   ],
   "source": [
    "# lower the learning rate?\n",
    "lr=np.array([1/9, 1/3, 1]) * 1e-4\n",
    "learn.fit(lr, 3, cycle_len=1, cycle_mult=2)"
   ]
  },
  {
   "cell_type": "markdown",
   "metadata": {},
   "source": [
    "#### Well, we've made it to ~60% accuracy. But that's pretty weak for a binary classifier..."
   ]
  },
  {
   "cell_type": "code",
   "execution_count": 195,
   "metadata": {},
   "outputs": [
    {
     "data": {
      "application/vnd.jupyter.widget-view+json": {
       "model_id": "777261651af2459cbce29dda2ebc020a",
       "version_major": 2,
       "version_minor": 0
      },
      "text/html": [
       "<p>Failed to display Jupyter Widget of type <code>HBox</code>.</p>\n",
       "<p>\n",
       "  If you're reading this message in the Jupyter Notebook or JupyterLab Notebook, it may mean\n",
       "  that the widgets JavaScript is still loading. If this message persists, it\n",
       "  likely means that the widgets JavaScript library is either not installed or\n",
       "  not enabled. See the <a href=\"https://ipywidgets.readthedocs.io/en/stable/user_install.html\">Jupyter\n",
       "  Widgets Documentation</a> for setup instructions.\n",
       "</p>\n",
       "<p>\n",
       "  If you're reading this message in another frontend (for example, a static\n",
       "  rendering on GitHub or <a href=\"https://nbviewer.jupyter.org/\">NBViewer</a>),\n",
       "  it may mean that your frontend doesn't currently support widgets.\n",
       "</p>\n"
      ],
      "text/plain": [
       "HBox(children=(IntProgress(value=0, description='Epoch', max=15), HTML(value='')))"
      ]
     },
     "metadata": {},
     "output_type": "display_data"
    },
    {
     "name": "stdout",
     "output_type": "stream",
     "text": [
      "epoch      trn_loss   val_loss   accuracy                  \n",
      "    0      0.703672   0.670211   0.582133  \n",
      "    1      0.692852   0.667108   0.59366                   \n",
      "    2      0.703774   0.668574   0.585014                  \n",
      "    3      0.700613   0.667748   0.590778                  \n",
      "    4      0.691068   0.667738   0.602305                  \n",
      "    5      0.701178   0.668806   0.605187                  \n",
      "    6      0.704188   0.667133   0.599424                  \n",
      "    7      0.700912   0.669356   0.570605                  \n",
      "    8      0.705432   0.667455   0.582133                  \n",
      "    9      0.710613   0.668671   0.587896                  \n",
      "    10     0.703307   0.667983   0.587896                  \n",
      "    11     0.695797   0.667063   0.596542                  \n",
      "    12     0.696828   0.665065   0.596542                  \n",
      "    13     0.700427   0.668136   0.599424                  \n",
      "    14     0.696648   0.667621   0.585014                  \n",
      "\n"
     ]
    },
    {
     "data": {
      "text/plain": [
       "[array([0.66762]), 0.5850144112831578]"
      ]
     },
     "execution_count": 195,
     "metadata": {},
     "output_type": "execute_result"
    }
   ],
   "source": [
    "learn.fit(lr, 4, cycle_len=1, cycle_mult=2)"
   ]
  },
  {
   "cell_type": "markdown",
   "metadata": {},
   "source": [
    "### Am I hitting the overfitting floor? Perhaps I need to make sure that we have enough dropout layers in addition to batch normalization.. but I don't know how to do this."
   ]
  },
  {
   "cell_type": "code",
   "execution_count": 199,
   "metadata": {},
   "outputs": [],
   "source": [
    "# try another architecture\n",
    "bs = 32\n",
    "sz = 96\n",
    "arch = vgg16\n",
    "\n",
    "n_examples = len(list(open(f'{PATH}bpt_debug.csv'))) - 1\n",
    "val_idxs = get_cv_idxs(n_examples)\n",
    "\n",
    "tfms = tfms_from_model(arch, sz, aug_tfms=transforms_top_down, max_zoom=1.2)\n",
    "data = ImageClassifierData.from_csv(PATH, 'bpt_training', f'{PATH}bpt_debug.csv', \n",
    "                                    test_name='bpt_testing', val_idxs=val_idxs, suffix='.jpg', tfms=tfms, \n",
    "                                    bs=bs, num_workers=8)"
   ]
  },
  {
   "cell_type": "code",
   "execution_count": 202,
   "metadata": {},
   "outputs": [
    {
     "data": {
      "application/vnd.jupyter.widget-view+json": {
       "model_id": "c9cd8fe8d94a47188228f9099909fa18",
       "version_major": 2,
       "version_minor": 0
      },
      "text/html": [
       "<p>Failed to display Jupyter Widget of type <code>HBox</code>.</p>\n",
       "<p>\n",
       "  If you're reading this message in the Jupyter Notebook or JupyterLab Notebook, it may mean\n",
       "  that the widgets JavaScript is still loading. If this message persists, it\n",
       "  likely means that the widgets JavaScript library is either not installed or\n",
       "  not enabled. See the <a href=\"https://ipywidgets.readthedocs.io/en/stable/user_install.html\">Jupyter\n",
       "  Widgets Documentation</a> for setup instructions.\n",
       "</p>\n",
       "<p>\n",
       "  If you're reading this message in another frontend (for example, a static\n",
       "  rendering on GitHub or <a href=\"https://nbviewer.jupyter.org/\">NBViewer</a>),\n",
       "  it may mean that your frontend doesn't currently support widgets.\n",
       "</p>\n"
      ],
      "text/plain": [
       "HBox(children=(IntProgress(value=0, description='Epoch', max=1), HTML(value='')))"
      ]
     },
     "metadata": {},
     "output_type": "display_data"
    },
    {
     "name": "stdout",
     "output_type": "stream",
     "text": [
      " 98%|█████████▊| 43/44 [00:07<00:00,  5.83it/s, loss=18]   \n",
      "                                                        \r"
     ]
    }
   ],
   "source": [
    "learn = ConvLearner.pretrained(arch, data, precompute=False)\n",
    "lrf = learn.lr_find(start_lr=1e-9, end_lr=10)"
   ]
  },
  {
   "cell_type": "code",
   "execution_count": 203,
   "metadata": {},
   "outputs": [
    {
     "data": {
      "image/png": "[encoded data removed]",
      "text/plain": [
       "<matplotlib.figure.Figure at 0x20105024a20>"
      ]
     },
     "metadata": {},
     "output_type": "display_data"
    }
   ],
   "source": [
    "learn.sched.plot()"
   ]
  },
  {
   "cell_type": "code",
   "execution_count": 204,
   "metadata": {},
   "outputs": [
    {
     "data": {
      "application/vnd.jupyter.widget-view+json": {
       "model_id": "67c7d0488c7f4b629d78177b0f6f8ab6",
       "version_major": 2,
       "version_minor": 0
      },
      "text/html": [
       "<p>Failed to display Jupyter Widget of type <code>HBox</code>.</p>\n",
       "<p>\n",
       "  If you're reading this message in the Jupyter Notebook or JupyterLab Notebook, it may mean\n",
       "  that the widgets JavaScript is still loading. If this message persists, it\n",
       "  likely means that the widgets JavaScript library is either not installed or\n",
       "  not enabled. See the <a href=\"https://ipywidgets.readthedocs.io/en/stable/user_install.html\">Jupyter\n",
       "  Widgets Documentation</a> for setup instructions.\n",
       "</p>\n",
       "<p>\n",
       "  If you're reading this message in another frontend (for example, a static\n",
       "  rendering on GitHub or <a href=\"https://nbviewer.jupyter.org/\">NBViewer</a>),\n",
       "  it may mean that your frontend doesn't currently support widgets.\n",
       "</p>\n"
      ],
      "text/plain": [
       "HBox(children=(IntProgress(value=0, description='Epoch', max=3), HTML(value='')))"
      ]
     },
     "metadata": {},
     "output_type": "display_data"
    },
    {
     "name": "stdout",
     "output_type": "stream",
     "text": [
      "epoch      trn_loss   val_loss   accuracy                  \n",
      "    0      1.002189   0.727968   0.521614  \n",
      "    1      0.976511   0.785645   0.536023                  \n",
      "    2      0.95278    0.775489   0.556196                  \n",
      "\n"
     ]
    },
    {
     "data": {
      "application/vnd.jupyter.widget-view+json": {
       "model_id": "dafa69ee37614b24a5c5ec4f538d7dfe",
       "version_major": 2,
       "version_minor": 0
      },
      "text/html": [
       "<p>Failed to display Jupyter Widget of type <code>HBox</code>.</p>\n",
       "<p>\n",
       "  If you're reading this message in the Jupyter Notebook or JupyterLab Notebook, it may mean\n",
       "  that the widgets JavaScript is still loading. If this message persists, it\n",
       "  likely means that the widgets JavaScript library is either not installed or\n",
       "  not enabled. See the <a href=\"https://ipywidgets.readthedocs.io/en/stable/user_install.html\">Jupyter\n",
       "  Widgets Documentation</a> for setup instructions.\n",
       "</p>\n",
       "<p>\n",
       "  If you're reading this message in another frontend (for example, a static\n",
       "  rendering on GitHub or <a href=\"https://nbviewer.jupyter.org/\">NBViewer</a>),\n",
       "  it may mean that your frontend doesn't currently support widgets.\n",
       "</p>\n"
      ],
      "text/plain": [
       "HBox(children=(IntProgress(value=0, description='Epoch', max=7), HTML(value='')))"
      ]
     },
     "metadata": {},
     "output_type": "display_data"
    },
    {
     "name": "stdout",
     "output_type": "stream",
     "text": [
      "epoch      trn_loss   val_loss   accuracy                  \n",
      "    0      0.951029   0.774995   0.54755   \n",
      "    1      0.929471   0.765068   0.56196                   \n",
      "    2      0.91328    0.764932   0.564841                  \n",
      "    3      0.910374   0.762349   0.573487                  \n",
      "    4      0.900871   0.752547   0.582133                  \n",
      "    5      0.919915   0.736746   0.579251                  \n",
      "    6      0.894956   0.762227   0.541787                  \n",
      "\n"
     ]
    },
    {
     "data": {
      "text/plain": [
       "[array([0.76223]), 0.5417867443747068]"
      ]
     },
     "execution_count": 204,
     "metadata": {},
     "output_type": "execute_result"
    }
   ],
   "source": [
    "learn.fit(1e-4, 3)\n",
    "learn.fit(1e-4, 3, cycle_len=1, cycle_mult=2)"
   ]
  },
  {
   "cell_type": "markdown",
   "metadata": {},
   "source": [
    "Meh. Not sure how to fix this..."
   ]
  },
  {
   "cell_type": "code",
   "execution_count": null,
   "metadata": {},
   "outputs": [],
   "source": []
  }
 ],
 "metadata": {
  "kernelspec": {
   "display_name": "Python 3",
   "language": "python",
   "name": "python3"
  },
  "language_info": {
   "codemirror_mode": {
    "name": "ipython",
    "version": 3
   },
   "file_extension": ".py",
   "mimetype": "text/x-python",
   "name": "python",
   "nbconvert_exporter": "python",
   "pygments_lexer": "ipython3",
   "version": "3.6.4"
  },
  "toc": {
   "colors": {
    "hover_highlight": "#DAA520",
    "navigate_num": "#000000",
    "navigate_text": "#333333",
    "running_highlight": "#FF0000",
    "selected_highlight": "#FFD700",
    "sidebar_border": "#EEEEEE",
    "wrapper_background": "#FFFFFF"
   },
   "moveMenuLeft": true,
   "nav_menu": {
    "height": "266px",
    "width": "252px"
   },
   "navigate_menu": true,
   "number_sections": true,
   "sideBar": true,
   "threshold": 4,
   "toc_cell": false,
   "toc_section_display": "block",
   "toc_window_display": false,
   "widenNotebook": false
  }
 },
 "nbformat": 4,
 "nbformat_minor": 2
}
